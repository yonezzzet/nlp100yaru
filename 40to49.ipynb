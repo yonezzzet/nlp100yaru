{
 "cells": [
  {
   "cell_type": "markdown",
   "metadata": {},
   "source": [
    "# 第5章: 係り受け解析\n",
    "\n",
    "- CaboCha\n",
    "https://taku910.github.io/cabocha/\n",
    "\n",
    "```\n",
    "brew install cabocha\n",
    "```\n",
    "で入った"
   ]
  },
  {
   "cell_type": "code",
   "execution_count": 1,
   "metadata": {},
   "outputs": [
    {
     "name": "stdout",
     "output_type": "stream",
     "text": [
      "cabocha of 0.69\r\n"
     ]
    }
   ],
   "source": [
    "!cabocha -v"
   ]
  },
  {
   "cell_type": "code",
   "execution_count": 2,
   "metadata": {
    "collapsed": true
   },
   "outputs": [],
   "source": [
    "!cat neko.txt | cabocha -f1 > neko.txt.cabocha"
   ]
  },
  {
   "cell_type": "code",
   "execution_count": 3,
   "metadata": {},
   "outputs": [
    {
     "name": "stdout",
     "output_type": "stream",
     "text": [
      "* 0 -1D 0/0 0.000000\r\n",
      "一\t名詞,数,*,*,*,*,一,イチ,イチ\r\n",
      "EOS\r\n",
      "EOS\r\n",
      "* 0 2D 0/0 -0.764522\r\n",
      "　\t記号,空白,*,*,*,*,　,　,　\r\n",
      "* 1 2D 0/1 -0.764522\r\n",
      "吾輩\t名詞,代名詞,一般,*,*,*,吾輩,ワガハイ,ワガハイ\r\n",
      "は\t助詞,係助詞,*,*,*,*,は,ハ,ワ\r\n",
      "* 2 -1D 0/2 0.000000\r\n",
      "猫\t名詞,一般,*,*,*,*,猫,ネコ,ネコ\r\n",
      "で\t助動詞,*,*,*,特殊・ダ,連用形,だ,デ,デ\r\n",
      "ある\t助動詞,*,*,*,五段・ラ行アル,基本形,ある,アル,アル\r\n",
      "。\t記号,句点,*,*,*,*,。,。,。\r\n",
      "EOS\r\n",
      "* 0 2D 0/1 -1.911675\r\n",
      "名前\t名詞,一般,*,*,*,*,名前,ナマエ,ナマエ\r\n",
      "は\t助詞,係助詞,*,*,*,*,は,ハ,ワ\r\n",
      "* 1 2D 0/0 -1.911675\r\n",
      "まだ\t副詞,助詞類接続,*,*,*,*,まだ,マダ,マダ\r\n"
     ]
    }
   ],
   "source": [
    "!head -n20 neko.txt.cabocha"
   ]
  },
  {
   "cell_type": "markdown",
   "metadata": {},
   "source": [
    "## 40. 係り受け解析結果の読み込み（形態素）"
   ]
  },
  {
   "cell_type": "code",
   "execution_count": 4,
   "metadata": {
    "collapsed": true,
    "scrolled": false
   },
   "outputs": [],
   "source": [
    "class Morph:\n",
    "    def __init__(self,mor):\n",
    "        self.parse(mor)\n",
    "\n",
    "    def __str__(self):\n",
    "        return self.mor\n",
    "        \n",
    "    def parse(self,mor):\n",
    "        self.mor = mor\n",
    "        splited = [mor.split('\\t')[0]] + mor.split('\\t')[1].split(',')\n",
    "        self.surface=splited[0]\n",
    "        self.base=splited[7]\n",
    "        self.pos=splited[1]\n",
    "        self.pos1=splited[2]     \n",
    "\n",
    "\n",
    "with open('neko.txt.cabocha') as f:\n",
    "    all_text = []\n",
    "    sentence_list = []\n",
    "    for line in f:\n",
    "        if line=='EOS\\n':\n",
    "            if len(sentence_list)>0:\n",
    "                all_text.append(sentence_list[:])\n",
    "            sentence_list = []\n",
    "        elif line[0]=='*':\n",
    "            pass\n",
    "        else:\n",
    "            sentence_list.append(Morph(line))\n"
   ]
  },
  {
   "cell_type": "code",
   "execution_count": 5,
   "metadata": {},
   "outputs": [
    {
     "name": "stdout",
     "output_type": "stream",
     "text": [
      "一\t名詞,数,*,*,*,*,一,イチ,イチ\n",
      "\n",
      "　\t記号,空白,*,*,*,*,　,　,　\n",
      "吾輩\t名詞,代名詞,一般,*,*,*,吾輩,ワガハイ,ワガハイ\n",
      "は\t助詞,係助詞,*,*,*,*,は,ハ,ワ\n",
      "猫\t名詞,一般,*,*,*,*,猫,ネコ,ネコ\n",
      "で\t助動詞,*,*,*,特殊・ダ,連用形,だ,デ,デ\n",
      "ある\t助動詞,*,*,*,五段・ラ行アル,基本形,ある,アル,アル\n",
      "。\t記号,句点,*,*,*,*,。,。,。\n",
      "\n",
      "名前\t名詞,一般,*,*,*,*,名前,ナマエ,ナマエ\n",
      "は\t助詞,係助詞,*,*,*,*,は,ハ,ワ\n",
      "まだ\t副詞,助詞類接続,*,*,*,*,まだ,マダ,マダ\n",
      "無い\t形容詞,自立,*,*,形容詞・アウオ段,基本形,無い,ナイ,ナイ\n",
      "。\t記号,句点,*,*,*,*,。,。,。\n",
      "\n"
     ]
    }
   ],
   "source": [
    "for i in range(3):\n",
    "    for mor in all_text[i]:\n",
    "        print(mor,end='')\n",
    "    print()"
   ]
  },
  {
   "cell_type": "markdown",
   "metadata": {
    "collapsed": true
   },
   "source": [
    "## 41. 係り受け解析結果の読み込み（文節・係り受け）"
   ]
  },
  {
   "cell_type": "code",
   "execution_count": 6,
   "metadata": {},
   "outputs": [],
   "source": [
    "class Chunk:\n",
    "    def __init__(self,ctxt):\n",
    "        self.morphs = []\n",
    "        self.srcs = []\n",
    "        self.dst = -1\n",
    "        self.parse(ctxt)\n",
    "    \n",
    "    def __str__(self):\n",
    "        s = \"\"\n",
    "        for m in self.morphs:\n",
    "            s += m.surface\n",
    "        return s\n",
    "    \n",
    "    def text(self):\n",
    "        s = self.ctxt\n",
    "        for m in self.morphs:\n",
    "            s += m.__str__()\n",
    "        return s        \n",
    "       \n",
    "    def parse(self,ctxt):\n",
    "        self.ctxt = ctxt\n",
    "        self.idx = int(ctxt.split()[1])\n",
    "        self.dst = int(ctxt.split()[2][:-1])\n"
   ]
  },
  {
   "cell_type": "code",
   "execution_count": 7,
   "metadata": {},
   "outputs": [],
   "source": [
    "all_text = []\n",
    "sentence_list = []\n",
    "srcs = {}\n",
    "with open('neko.txt.cabocha') as f:\n",
    "    for line in f:\n",
    "        if line[0]=='*':\n",
    "            c = Chunk(line)\n",
    "            sentence_list.append(c)\n",
    "            if c.dst in srcs.keys():\n",
    "                srcs[c.dst].append(c.idx)\n",
    "            else:\n",
    "                srcs[c.dst] = [c.idx]\n",
    "            if c.idx in srcs:\n",
    "                c.srcs = srcs[c.idx][:]\n",
    "        elif line=='EOS\\n':\n",
    "            srcs = {}\n",
    "            if len(sentence_list)>0:\n",
    "                all_text.append(sentence_list[:])\n",
    "            sentence_list = []\n",
    "        else:\n",
    "            c.morphs.append(Morph(line))\n"
   ]
  },
  {
   "cell_type": "code",
   "execution_count": 8,
   "metadata": {},
   "outputs": [
    {
     "name": "stdout",
     "output_type": "stream",
     "text": [
      "0 何でも -> 1\n",
      "1 薄暗い -> 3\n",
      "2 じめじめした -> 3\n",
      "3 所で -> 5\n",
      "4 ニャーニャー -> 5\n",
      "5 泣いて -> 7\n",
      "6 いた事だけは -> 7\n",
      "7 記憶している。 -> -1\n"
     ]
    }
   ],
   "source": [
    "for chunk in all_text[4]:\n",
    "    print(\"{} {} -> {}\".format(chunk.idx,chunk,chunk.dst))"
   ]
  },
  {
   "cell_type": "markdown",
   "metadata": {},
   "source": [
    "## 42. 係り元と係り先の文節の表示"
   ]
  },
  {
   "cell_type": "code",
   "execution_count": 9,
   "metadata": {},
   "outputs": [
    {
     "name": "stdout",
     "output_type": "stream",
     "text": [
      "\t猫である\n",
      "吾輩は\t猫である\n",
      "名前は\t無い\n",
      "まだ\t無い\n",
      "どこで\t生れたか\n",
      "生れたか\tつかぬ\n",
      "とんと\tつかぬ\n",
      "見当が\tつかぬ\n"
     ]
    }
   ],
   "source": [
    "import re\n",
    "for sentence in all_text[0:4]: \n",
    "    for chunk in sentence:\n",
    "        if chunk.dst == -1: continue\n",
    "        print(re.sub('[、。　]','',\"{}\\t{}\".format(chunk,sentence[chunk.dst])))"
   ]
  },
  {
   "cell_type": "markdown",
   "metadata": {},
   "source": [
    "## 43. 名詞を含む文節が動詞を含む文節に係るものを抽出"
   ]
  },
  {
   "cell_type": "code",
   "execution_count": 10,
   "metadata": {},
   "outputs": [
    {
     "name": "stdout",
     "output_type": "stream",
     "text": [
      "どこで\t生れたか\n",
      "見当が\tつかぬ\n",
      "所で\t泣いて\n",
      "ニャーニャー\t泣いて\n",
      "いた事だけは\t記憶している\n",
      "吾輩は\t見た\n",
      "ここで\t始めて\n",
      "ものを\t見た\n",
      "あとで\t聞くと\n",
      "我々を\t捕えて\n",
      "掌に\t載せられて\n",
      "スーと\t持ち上げられた\n",
      "時\tフワフワした\n",
      "感じが\tあったばかりである\n"
     ]
    }
   ],
   "source": [
    "for sentence in all_text[0:10]:\n",
    "    for chunk in sentence:\n",
    "        if chunk.dst == -1: continue\n",
    "        cfrom = chunk\n",
    "        cto   = sentence[chunk.dst]\n",
    "        ffrom = False\n",
    "        fto   = False\n",
    "        for mor in cfrom.morphs:\n",
    "            if mor.pos=='名詞': ffrom = True\n",
    "        for mor in cto.morphs:\n",
    "            if mor.pos=='動詞': fto = True\n",
    "        if ffrom and fto:\n",
    "            print(re.sub('[、。　]','',\"{}\\t{}\".format(cfrom,cto)))"
   ]
  },
  {
   "cell_type": "markdown",
   "metadata": {},
   "source": [
    "## 44. 係り受け木の可視化"
   ]
  },
  {
   "cell_type": "markdown",
   "metadata": {},
   "source": [
    "graphviz : https://graphviz.gitlab.io/documentation/\n",
    "\n",
    "pydot : https://github.com/erocarrera/pydot\n",
    "\n",
    "```\n",
    "brew install graphviz\n",
    "pip install pydot\n",
    "```"
   ]
  },
  {
   "cell_type": "code",
   "execution_count": 11,
   "metadata": {},
   "outputs": [],
   "source": [
    "import pydot\n",
    "\n",
    "s = 'digraph graphname{'\n",
    "sentence = all_text[7]\n",
    "for chunk in sentence:\n",
    "    if chunk.dst == -1: continue\n",
    "    s += re.sub('[、。　]','',\"{} -> {} \\n \".format(chunk,sentence[chunk.dst]))\n",
    "s += '}'"
   ]
  },
  {
   "cell_type": "code",
   "execution_count": 12,
   "metadata": {},
   "outputs": [],
   "source": [
    "g = pydot.graph_from_dot_data(s)\n",
    "g[0].write_png('out.png')"
   ]
  },
  {
   "cell_type": "markdown",
   "metadata": {},
   "source": [
    "![title](out.png)"
   ]
  },
  {
   "cell_type": "markdown",
   "metadata": {},
   "source": [
    "## 45. 動詞の格パターンの抽出"
   ]
  },
  {
   "cell_type": "code",
   "execution_count": 13,
   "metadata": {},
   "outputs": [
    {
     "name": "stdout",
     "output_type": "stream",
     "text": [
      "生れる\tで\r\n",
      "つく\tか が\r\n",
      "泣く\tで\r\n",
      "する\tて だけ は\r\n",
      "始める\tで\r\n",
      "見る\tは を\r\n",
      "聞く\tで\r\n",
      "捕える\tを\r\n",
      "煮る\tて\r\n",
      "食う\tて\r\n"
     ]
    }
   ],
   "source": [
    "def left_verb(chunk):\n",
    "    for mor in chunk.morphs:\n",
    "        if mor.pos == '動詞':\n",
    "            return mor\n",
    "    return None\n",
    "\n",
    "def jlist(sentence,srcs):\n",
    "    chunks = [sentence[src] for src in srcs]\n",
    "    j = [mor.base for chunk in chunks for mor in chunk.morphs if mor.pos == '助詞']\n",
    "    return j\n",
    "\n",
    "with open('kakupattern.txt','w') as f:\n",
    "    for sentence in all_text:\n",
    "        for chunk in sentence:\n",
    "            v = left_verb(chunk)\n",
    "            j = jlist(sentence,chunk.srcs)\n",
    "            if v is not None and len(j)>0:\n",
    "                print(v.base,end='\\t',file=f)\n",
    "                print(' '.join(j),file=f)\n",
    "\n",
    "#確認\n",
    "!head kakupattern.txt"
   ]
  },
  {
   "cell_type": "markdown",
   "metadata": {},
   "source": [
    "### コーパス中で頻出する述語と格パターンの組み合わせ"
   ]
  },
  {
   "cell_type": "code",
   "execution_count": 14,
   "metadata": {},
   "outputs": [
    {
     "name": "stdout",
     "output_type": "stream",
     "text": [
      " 565 云う\tと\r\n",
      " 442 する\tを\r\n",
      " 249 思う\tと\r\n",
      " 199 ある\tが\r\n",
      " 189 なる\tに\r\n",
      " 174 する\tに\r\n",
      " 173 見る\tて\r\n",
      " 127 する\tと\r\n",
      " 117 する\tが\r\n",
      "  94 見る\tを\r\n",
      "sort: Broken pipe\r\n"
     ]
    }
   ],
   "source": [
    "!cat kakupattern.txt | sort | uniq -c | sort -nr | head"
   ]
  },
  {
   "cell_type": "markdown",
   "metadata": {},
   "source": [
    "### 「する」「見る」「与える」という動詞の格パターン（コーパス中で出現頻度の高い順に並べよ）"
   ]
  },
  {
   "cell_type": "code",
   "execution_count": 15,
   "metadata": {},
   "outputs": [
    {
     "name": "stdout",
     "output_type": "stream",
     "text": [
      " 442 する\tを\r\n",
      " 174 する\tに\r\n",
      " 173 見る\tて\r\n",
      " 127 する\tと\r\n",
      " 117 する\tが\r\n",
      "  94 見る\tを\r\n",
      "  84 する\tて を\r\n",
      "  59 する\tは\r\n",
      "  58 する\tを に\r\n",
      "  58 する\tて\r\n"
     ]
    }
   ],
   "source": [
    "!cat kakupattern.txt | sort | uniq -c | sort -nr | grep -E \"\\s(する|見る|与える)\\s\" | head"
   ]
  },
  {
   "cell_type": "markdown",
   "metadata": {},
   "source": [
    "## 46. 動詞の格フレーム情報の抽出"
   ]
  },
  {
   "cell_type": "code",
   "execution_count": 16,
   "metadata": {},
   "outputs": [
    {
     "name": "stdout",
     "output_type": "stream",
     "text": [
      "生れる\tで\t　どこで\n",
      "つく\tか が\t生れたか 見当が\n",
      "泣く\tで\t所で\n",
      "する\tて だけ は\t泣いて いた事だけは いた事だけは\n",
      "始める\tで\tここで\n",
      "見る\tは を\t吾輩は ものを\n",
      "聞く\tで\tあとで\n",
      "捕える\tを\t我々を\n",
      "煮る\tて\t捕えて\n",
      "食う\tて\t煮て\n"
     ]
    }
   ],
   "source": [
    "def jlist2(sentence,srcs):\n",
    "    chunks = [sentence[src] for src in srcs]\n",
    "    return ([mor.base for chunk in chunks for mor in chunk.morphs if mor.pos == '助詞'],\n",
    "            [chunk for chunk in chunks for mor in chunk.morphs if mor.pos == '助詞'])\n",
    "\n",
    "for sentence in all_text[0:8]:\n",
    "    for chunk in sentence:\n",
    "        v = left_verb(chunk)\n",
    "        j,c = jlist2(sentence,chunk.srcs)\n",
    "        if v is not None and len(j)>0:\n",
    "            print(v.base,end='\\t')\n",
    "            print(' '.join(j),end='\\t')\n",
    "            print(' '.join([str(i) for i in c]))\n",
    "\n"
   ]
  },
  {
   "cell_type": "markdown",
   "metadata": {},
   "source": [
    "## 47. 機能動詞構文のマイニング"
   ]
  },
  {
   "cell_type": "code",
   "execution_count": 17,
   "metadata": {},
   "outputs": [
    {
     "name": "stdout",
     "output_type": "stream",
     "text": [
      "決心をする\tと\tこうと\r\n",
      "返報をする\tんで\t偸んで\r\n",
      "昼寝をする\tが\t彼が\r\n",
      "迫害を加える\tて\t追い廻して\r\n",
      "家族的生活をする\tが を\t我等猫族が 愛を\r\n",
      "投書をする\tて へ\tやって ほととぎすへ\r\n",
      "話をする\tに\t時に\r\n",
      "昼寝をする\tて\t出て\r\n",
      "失笑するのを禁じる\tは\t吾輩は\r\n",
      "欠伸をする\tから て て\tなったから して 押し出して\r\n"
     ]
    }
   ],
   "source": [
    "def has_wo(chunk):\n",
    "    return 'を' in [mor.base for mor in chunk.morphs]\n",
    "\n",
    "def has_sahen(chunk):\n",
    "    return 'サ変接続' in [mor.pos1 for mor in chunk.morphs]\n",
    "\n",
    "def has_joshi(chunk):\n",
    "    return '助詞' in [mor.pos for mor in chunk.morphs]\n",
    "\n",
    "with open('kinoudoushi.txt','w') as f:\n",
    "    for sentence in all_text:\n",
    "        for chunk in sentence:\n",
    "            v_mor = left_verb(chunk)\n",
    "            if v_mor is None: continue\n",
    "            s_chunks = [c for c in sentence if c.idx in chunk.srcs and has_joshi(c)]\n",
    "            if len(s_chunks) < 2: continue\n",
    "\n",
    "            for s_c in s_chunks:\n",
    "                if has_wo(s_c) and has_sahen(s_c):\n",
    "                    print(s_c,end='',file=f)\n",
    "                    print(v_mor.base,end='\\t',file=f)\n",
    "                    s_chunks.remove(s_c)\n",
    "                    print(' '.join([m.base for c in s_chunks for m in c.morphs if m.pos == '助詞']),\n",
    "                          end='\\t',file=f)\n",
    "                    print(' '.join(re.sub('、','',str(c)) for c in s_chunks),file=f)\n",
    "                    break\n",
    "\n",
    "!head kinoudoushi.txt"
   ]
  },
  {
   "cell_type": "markdown",
   "metadata": {},
   "source": [
    "### コーパス中で頻出する述語（サ変接続名詞+を+動詞）"
   ]
  },
  {
   "cell_type": "code",
   "execution_count": 18,
   "metadata": {},
   "outputs": [
    {
     "name": "stdout",
     "output_type": "stream",
     "text": [
      "  25 返事をする\r\n",
      "  19 挨拶をする\r\n",
      "  11 話をする\r\n",
      "   8 質問をする\r\n",
      "   7 喧嘩をする\r\n",
      "   6 真似をする\r\n",
      "   5 質問をかける\r\n",
      "   5 相談をする\r\n",
      "   5 昼寝をする\r\n",
      "   4 御辞儀をする\r\n"
     ]
    }
   ],
   "source": [
    "!cat kinoudoushi.txt | cut -f1 | sort | uniq -c | sort -nr | head"
   ]
  },
  {
   "cell_type": "markdown",
   "metadata": {},
   "source": [
    "### コーパス中で頻出する述語と助詞パターン"
   ]
  },
  {
   "cell_type": "code",
   "execution_count": 19,
   "metadata": {},
   "outputs": [
    {
     "name": "stdout",
     "output_type": "stream",
     "text": [
      "   4 挨拶をする\tから\r\n",
      "   4 返事をする\tと\r\n",
      "   3 挨拶をする\tと\r\n",
      "   3 喧嘩をする\tと\r\n",
      "   2 同情を表する\tと は て\r\n",
      "   2 質問をかける\tと は\r\n",
      "   2 休養を要する\tは\r\n",
      "   2 返事をする\tは と\r\n",
      "   2 議論をする\tて\r\n",
      "   2 講義をする\tで\r\n"
     ]
    }
   ],
   "source": [
    "!cat kinoudoushi.txt | cut -f1-2 | sort | uniq -c | sort -nr | head"
   ]
  },
  {
   "cell_type": "markdown",
   "metadata": {},
   "source": [
    "## 48. 名詞から根へのパスの抽出"
   ]
  },
  {
   "cell_type": "code",
   "execution_count": null,
   "metadata": {
    "collapsed": true
   },
   "outputs": [],
   "source": []
  }
 ],
 "metadata": {
  "kernelspec": {
   "display_name": "Python 3",
   "language": "python",
   "name": "python3"
  },
  "language_info": {
   "codemirror_mode": {
    "name": "ipython",
    "version": 3
   },
   "file_extension": ".py",
   "mimetype": "text/x-python",
   "name": "python",
   "nbconvert_exporter": "python",
   "pygments_lexer": "ipython3",
   "version": "3.6.3"
  }
 },
 "nbformat": 4,
 "nbformat_minor": 2
}
