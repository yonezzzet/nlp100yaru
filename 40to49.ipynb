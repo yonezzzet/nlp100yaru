{
 "cells": [
  {
   "cell_type": "markdown",
   "metadata": {},
   "source": [
    "# 第5章: 係り受け解析\n",
    "\n",
    "- CaboCha\n",
    "https://taku910.github.io/cabocha/\n",
    "\n",
    "```\n",
    "brew install cabocha\n",
    "```\n",
    "で入った"
   ]
  },
  {
   "cell_type": "code",
   "execution_count": 1,
   "metadata": {},
   "outputs": [
    {
     "name": "stdout",
     "output_type": "stream",
     "text": [
      "cabocha of 0.69\r\n"
     ]
    }
   ],
   "source": [
    "!cabocha -v"
   ]
  },
  {
   "cell_type": "code",
   "execution_count": 2,
   "metadata": {
    "collapsed": true
   },
   "outputs": [],
   "source": [
    "!cat neko.txt | cabocha -f1 > neko.txt.cabocha"
   ]
  },
  {
   "cell_type": "code",
   "execution_count": 3,
   "metadata": {},
   "outputs": [
    {
     "name": "stdout",
     "output_type": "stream",
     "text": [
      "* 0 -1D 0/0 0.000000\r\n",
      "一\t名詞,数,*,*,*,*,一,イチ,イチ\r\n",
      "EOS\r\n",
      "EOS\r\n",
      "* 0 2D 0/0 -0.764522\r\n",
      "　\t記号,空白,*,*,*,*,　,　,　\r\n",
      "* 1 2D 0/1 -0.764522\r\n",
      "吾輩\t名詞,代名詞,一般,*,*,*,吾輩,ワガハイ,ワガハイ\r\n",
      "は\t助詞,係助詞,*,*,*,*,は,ハ,ワ\r\n",
      "* 2 -1D 0/2 0.000000\r\n",
      "猫\t名詞,一般,*,*,*,*,猫,ネコ,ネコ\r\n",
      "で\t助動詞,*,*,*,特殊・ダ,連用形,だ,デ,デ\r\n",
      "ある\t助動詞,*,*,*,五段・ラ行アル,基本形,ある,アル,アル\r\n",
      "。\t記号,句点,*,*,*,*,。,。,。\r\n",
      "EOS\r\n",
      "* 0 2D 0/1 -1.911675\r\n",
      "名前\t名詞,一般,*,*,*,*,名前,ナマエ,ナマエ\r\n",
      "は\t助詞,係助詞,*,*,*,*,は,ハ,ワ\r\n",
      "* 1 2D 0/0 -1.911675\r\n",
      "まだ\t副詞,助詞類接続,*,*,*,*,まだ,マダ,マダ\r\n"
     ]
    }
   ],
   "source": [
    "!head -n20 neko.txt.cabocha"
   ]
  },
  {
   "cell_type": "markdown",
   "metadata": {},
   "source": [
    "## 40. 係り受け解析結果の読み込み（形態素）"
   ]
  },
  {
   "cell_type": "code",
   "execution_count": 4,
   "metadata": {
    "collapsed": true,
    "scrolled": false
   },
   "outputs": [],
   "source": [
    "class Morph:\n",
    "    def __init__(self,mor):\n",
    "        self.parse(mor)\n",
    "\n",
    "    def __str__(self):\n",
    "        return self.mor\n",
    "        \n",
    "    def parse(self,mor):\n",
    "        self.mor = mor\n",
    "        splited = [mor.split('\\t')[0]] + mor.split('\\t')[1].split(',')\n",
    "        self.surface=splited[0]\n",
    "        self.base=splited[7]\n",
    "        self.pos=splited[1]\n",
    "        self.pos1=splited[2]     \n",
    "\n",
    "\n",
    "with open('neko.txt.cabocha') as f:\n",
    "    all_text = []\n",
    "    sentence_list = []\n",
    "    for line in f:\n",
    "        if line=='EOS\\n':\n",
    "            if len(sentence_list)>0:\n",
    "                all_text.append(sentence_list[:])\n",
    "            sentence_list = []\n",
    "        elif line[0]=='*':\n",
    "            pass\n",
    "        else:\n",
    "            sentence_list.append(Morph(line))\n"
   ]
  },
  {
   "cell_type": "code",
   "execution_count": 5,
   "metadata": {},
   "outputs": [
    {
     "name": "stdout",
     "output_type": "stream",
     "text": [
      "一\t名詞,数,*,*,*,*,一,イチ,イチ\n",
      "\n",
      "　\t記号,空白,*,*,*,*,　,　,　\n",
      "吾輩\t名詞,代名詞,一般,*,*,*,吾輩,ワガハイ,ワガハイ\n",
      "は\t助詞,係助詞,*,*,*,*,は,ハ,ワ\n",
      "猫\t名詞,一般,*,*,*,*,猫,ネコ,ネコ\n",
      "で\t助動詞,*,*,*,特殊・ダ,連用形,だ,デ,デ\n",
      "ある\t助動詞,*,*,*,五段・ラ行アル,基本形,ある,アル,アル\n",
      "。\t記号,句点,*,*,*,*,。,。,。\n",
      "\n",
      "名前\t名詞,一般,*,*,*,*,名前,ナマエ,ナマエ\n",
      "は\t助詞,係助詞,*,*,*,*,は,ハ,ワ\n",
      "まだ\t副詞,助詞類接続,*,*,*,*,まだ,マダ,マダ\n",
      "無い\t形容詞,自立,*,*,形容詞・アウオ段,基本形,無い,ナイ,ナイ\n",
      "。\t記号,句点,*,*,*,*,。,。,。\n",
      "\n"
     ]
    }
   ],
   "source": [
    "for i in range(3):\n",
    "    for mor in all_text[i]:\n",
    "        print(mor,end='')\n",
    "    print()"
   ]
  },
  {
   "cell_type": "markdown",
   "metadata": {
    "collapsed": true
   },
   "source": [
    "## 41. 係り受け解析結果の読み込み（文節・係り受け）"
   ]
  },
  {
   "cell_type": "code",
   "execution_count": 6,
   "metadata": {},
   "outputs": [],
   "source": [
    "class Chunk:\n",
    "    def __init__(self,ctxt):\n",
    "        self.morphs = []\n",
    "        self.srcs = []\n",
    "        self.dst = -1\n",
    "        self.parse(ctxt)\n",
    "    \n",
    "    def __str__(self):\n",
    "        s = \"\"\n",
    "        for m in self.morphs:\n",
    "            s += m.surface\n",
    "        return s\n",
    "    \n",
    "    def text(self):\n",
    "        s = self.ctxt\n",
    "        for m in self.morphs:\n",
    "            s += m.__str__()\n",
    "        return s        \n",
    "       \n",
    "    def parse(self,ctxt):\n",
    "        self.ctxt = ctxt\n",
    "        self.idx = int(ctxt.split()[1])\n",
    "        self.dst = int(ctxt.split()[2][:-1])\n"
   ]
  },
  {
   "cell_type": "code",
   "execution_count": 7,
   "metadata": {},
   "outputs": [],
   "source": [
    "all_text = []\n",
    "sentence_list = []\n",
    "srcs = {}\n",
    "with open('neko.txt.cabocha') as f:\n",
    "    for line in f:\n",
    "        if line[0]=='*':\n",
    "            c = Chunk(line)\n",
    "            sentence_list.append(c)\n",
    "            if c.dst in srcs.keys():\n",
    "                srcs[c.dst].append(c.idx)\n",
    "            else:\n",
    "                srcs[c.dst] = [c.idx]\n",
    "            if c.idx in srcs:\n",
    "                c.srcs = srcs[c.idx][:]\n",
    "        elif line=='EOS\\n':\n",
    "            srcs = {}\n",
    "            if len(sentence_list)>0:\n",
    "                all_text.append(sentence_list[:])\n",
    "            sentence_list = []\n",
    "        else:\n",
    "            c.morphs.append(Morph(line))\n"
   ]
  },
  {
   "cell_type": "code",
   "execution_count": 8,
   "metadata": {},
   "outputs": [
    {
     "name": "stdout",
     "output_type": "stream",
     "text": [
      "0 この -> 1\n",
      "1 書生というのは -> 7\n",
      "2 時々 -> 4\n",
      "3 我々を -> 4\n",
      "4 捕えて -> 5\n",
      "5 煮て -> 6\n",
      "6 食うという -> 7\n",
      "7 話である。 -> -1\n"
     ]
    }
   ],
   "source": [
    "for chunk in all_text[7]:\n",
    "    print(\"{} {} -> {}\".format(chunk.idx,chunk,chunk.dst))"
   ]
  },
  {
   "cell_type": "markdown",
   "metadata": {},
   "source": [
    "## 42. 係り元と係り先の文節の表示"
   ]
  },
  {
   "cell_type": "code",
   "execution_count": 9,
   "metadata": {},
   "outputs": [
    {
     "name": "stdout",
     "output_type": "stream",
     "text": [
      "\t猫である\n",
      "吾輩は\t猫である\n",
      "名前は\t無い\n",
      "まだ\t無い\n",
      "どこで\t生れたか\n",
      "生れたか\tつかぬ\n",
      "とんと\tつかぬ\n",
      "見当が\tつかぬ\n"
     ]
    }
   ],
   "source": [
    "import re\n",
    "for sentence in all_text[0:4]:\n",
    "    for chunk in sentence:\n",
    "        if chunk.dst == -1: continue\n",
    "        print(re.sub('[、。　]','',\"{}\\t{}\".format(chunk,sentence[chunk.dst])))"
   ]
  },
  {
   "cell_type": "markdown",
   "metadata": {},
   "source": [
    "## 43. 名詞を含む文節が動詞を含む文節に係るものを抽出"
   ]
  },
  {
   "cell_type": "code",
   "execution_count": 10,
   "metadata": {},
   "outputs": [
    {
     "name": "stdout",
     "output_type": "stream",
     "text": [
      "どこで\t生れたか\n",
      "見当が\tつかぬ\n",
      "所で\t泣いて\n",
      "ニャーニャー\t泣いて\n",
      "いた事だけは\t記憶している\n",
      "吾輩は\t見た\n",
      "ここで\t始めて\n",
      "ものを\t見た\n",
      "あとで\t聞くと\n",
      "我々を\t捕えて\n",
      "掌に\t載せられて\n",
      "スーと\t持ち上げられた\n",
      "時\tフワフワした\n",
      "感じが\tあったばかりである\n"
     ]
    }
   ],
   "source": [
    "for sentence in all_text[0:10]:\n",
    "    for chunk in sentence:\n",
    "        if chunk.dst == -1: continue\n",
    "        cfrom = chunk\n",
    "        cto   = sentence[chunk.dst]\n",
    "        ffrom = False\n",
    "        fto   = False\n",
    "        for mor in cfrom.morphs:\n",
    "            if mor.pos=='名詞': ffrom = True\n",
    "        for mor in cto.morphs:\n",
    "            if mor.pos=='動詞': fto = True\n",
    "        if ffrom and fto:\n",
    "            print(re.sub('[、。　]','',\"{}\\t{}\".format(cfrom,cto)))"
   ]
  },
  {
   "cell_type": "code",
   "execution_count": null,
   "metadata": {
    "collapsed": true
   },
   "outputs": [],
   "source": []
  }
 ],
 "metadata": {
  "kernelspec": {
   "display_name": "Python 3",
   "language": "python",
   "name": "python3"
  },
  "language_info": {
   "codemirror_mode": {
    "name": "ipython",
    "version": 3
   },
   "file_extension": ".py",
   "mimetype": "text/x-python",
   "name": "python",
   "nbconvert_exporter": "python",
   "pygments_lexer": "ipython3",
   "version": "3.6.3"
  }
 },
 "nbformat": 4,
 "nbformat_minor": 2
}
