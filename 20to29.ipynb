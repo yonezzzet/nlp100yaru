{
 "cells": [
  {
   "cell_type": "markdown",
   "metadata": {},
   "source": [
    "## 20. JSONデータの読み込み"
   ]
  },
  {
   "cell_type": "code",
   "execution_count": 1,
   "metadata": {},
   "outputs": [
    {
     "data": {
      "text/plain": [
       "('jawiki-country.json.gz', <http.client.HTTPMessage at 0x10e12cf60>)"
      ]
     },
     "execution_count": 1,
     "metadata": {},
     "output_type": "execute_result"
    }
   ],
   "source": [
    "import urllib\n",
    "\n",
    "url  = \"http://www.cl.ecei.tohoku.ac.jp/nlp100/data/jawiki-country.json.gz\"\n",
    "urllib.request.urlretrieve(url, 'jawiki-country.json.gz')"
   ]
  },
  {
   "cell_type": "code",
   "execution_count": 2,
   "metadata": {
    "collapsed": true
   },
   "outputs": [],
   "source": [
    "import gzip,json\n",
    "eng = {}\n",
    "with gzip.open('jawiki-country.json.gz','rt') as f:\n",
    "    for line in f:\n",
    "        j = json.loads(line)\n",
    "        if j['title']=='イギリス':\n",
    "            eng = j\n",
    "\n",
    "#出力省略"
   ]
  },
  {
   "cell_type": "markdown",
   "metadata": {},
   "source": [
    "## 21. カテゴリ名を含む行を抽出"
   ]
  },
  {
   "cell_type": "code",
   "execution_count": 3,
   "metadata": {},
   "outputs": [
    {
     "name": "stdout",
     "output_type": "stream",
     "text": [
      "[[Category:イギリス|*]]\n",
      "[[Category:英連邦王国|*]]\n",
      "[[Category:G8加盟国]]\n",
      "[[Category:欧州連合加盟国]]\n",
      "[[Category:海洋国家]]\n",
      "[[Category:君主国]]\n",
      "[[Category:島国|くれいとふりてん]]\n",
      "[[Category:1801年に設立された州・地域]]\n"
     ]
    }
   ],
   "source": [
    "import re\n",
    "for line in eng['text'].split('\\n'):\n",
    "    match = re.search('Category',line)\n",
    "    if match:\n",
    "        print(line)"
   ]
  },
  {
   "cell_type": "markdown",
   "metadata": {},
   "source": [
    "## 22. カテゴリ名の抽出"
   ]
  },
  {
   "cell_type": "code",
   "execution_count": 4,
   "metadata": {},
   "outputs": [
    {
     "name": "stdout",
     "output_type": "stream",
     "text": [
      "イギリス\n",
      "英連邦王国\n",
      "G8加盟国\n",
      "欧州連合加盟国\n",
      "海洋国家\n",
      "君主国\n",
      "島国\n",
      "1801年に設立された州・地域\n"
     ]
    }
   ],
   "source": [
    "for line in eng['text'].split('\\n'):\n",
    "    match = re.search('Category:(.*?)[\\|\\]]',line)\n",
    "    if match:\n",
    "        print(match.group(1))"
   ]
  },
  {
   "cell_type": "markdown",
   "metadata": {},
   "source": [
    "## 23. セクション構造"
   ]
  },
  {
   "cell_type": "code",
   "execution_count": 5,
   "metadata": {},
   "outputs": [
    {
     "name": "stdout",
     "output_type": "stream",
     "text": [
      "1 国名\n",
      "2 歴史\n",
      "3 地理\n",
      "3.1 気候\n",
      "4 政治\n",
      "5 外交と軍事\n",
      "6 地方行政区分\n",
      "6.1 主要都市\n",
      "7 科学技術\n",
      "8 経済\n",
      "8.1 鉱業\n",
      "8.2 農業\n",
      "8.3 貿易\n",
      "8.4 通貨\n",
      "8.5 企業\n",
      "9 交通\n",
      "9.1 道路\n",
      "9.2 鉄道\n",
      "9.3 海運\n",
      "9.4 航空\n",
      "10 通信\n",
      "11 国民\n",
      "11.1 言語\n",
      "11.2 宗教\n",
      "11.3  婚姻 \n",
      "11.4 教育\n",
      "12 文化\n",
      "12.1 食文化\n",
      "12.2 文学\n",
      "12.3  哲学 \n",
      "12.4 音楽\n",
      "12.4.1 イギリスのポピュラー音楽\n",
      "12.5 映画\n",
      "12.6 コメディ\n",
      "12.7 国花\n",
      "12.8 世界遺産\n",
      "12.9 祝祭日\n",
      "13 スポーツ\n",
      "13.1 サッカー\n",
      "13.2 競馬\n",
      "13.3 モータースポーツ\n",
      "14 脚注\n",
      "15 関連項目\n",
      "16 外部リンク\n"
     ]
    }
   ],
   "source": [
    "sec = [0,0,0]\n",
    "for line in eng['text'].split('\\n'):\n",
    "    match = re.search('==(.*)==',line)\n",
    "    if match:\n",
    "        matched = match.group(0)\n",
    "        match2 = re.search('[^=]+',matched)\n",
    "        level = match2.start(0)-2\n",
    "        for i in range(level+1,3):\n",
    "            sec[i]=0\n",
    "        sec[level]+=1\n",
    "        print(\".\".join(map(str,sec[:level+1])),end=' ')\n",
    "        print(match2.group(0))"
   ]
  },
  {
   "cell_type": "markdown",
   "metadata": {},
   "source": [
    "## 24. ファイル参照の抽出"
   ]
  },
  {
   "cell_type": "code",
   "execution_count": 6,
   "metadata": {},
   "outputs": [
    {
     "name": "stdout",
     "output_type": "stream",
     "text": [
      "Battle of Waterloo 1815.PNG\n",
      "The British Empire.png\n",
      "Uk topo en.jpg\n",
      "BenNevis2005.jpg\n",
      "Elizabeth II greets NASA GSFC employees, May 8, 2007 edit.jpg\n",
      "Palace of Westminster, London - Feb 2007.jpg\n",
      "David Cameron and Barack Obama at the G20 Summit in Toronto.jpg\n",
      "Soldiers Trooping the Colour, 16th June 2007.jpg\n",
      "Scotland Parliament Holyrood.jpg\n",
      "London.bankofengland.arp.jpg\n",
      "City of London skyline from London City Hall - Oct 2008.jpg\n",
      "Oil platform in the North SeaPros.jpg\n",
      "Eurostar at St Pancras Jan 2008.jpg\n",
      "Heathrow T5.jpg\n",
      "Anglospeak.svg\n"
     ]
    }
   ],
   "source": [
    "for m in re.finditer('File:(.*?)\\|',eng['text']):\n",
    "        print(m.group(1))"
   ]
  },
  {
   "cell_type": "markdown",
   "metadata": {},
   "source": [
    "## 25. テンプレートの抽出"
   ]
  },
  {
   "cell_type": "code",
   "execution_count": 7,
   "metadata": {},
   "outputs": [
    {
     "data": {
      "text/plain": [
       "{'GDP/人': '36,727<ref name=\"imf-statistics-gdp\" />',\n",
       " 'GDP値': '2兆3162億<ref name=\"imf-statistics-gdp\" />',\n",
       " 'GDP値MER': '2兆4337億<ref name=\"imf-statistics-gdp\" />',\n",
       " 'GDP値元': '1兆5478億<ref name=\"imf-statistics-gdp\">[http://www.imf.org/external/pubs/ft/weo/2012/02/weodata/weorept.aspx?pr.x=70&pr.y=13&sy=2010&ey=2012&scsm=1&ssd=1&sort=country&ds=.&br=1&c=112&s=NGDP%2CNGDPD%2CPPPGDP%2CPPPPC&grp=0&a= IMF>Data and Statistics>World Economic Outlook Databases>By Countrise>United Kingdom]</ref>',\n",
       " 'GDP統計年': '2012',\n",
       " 'GDP統計年MER': '2012',\n",
       " 'GDP統計年元': '2012',\n",
       " 'GDP順位': '6',\n",
       " 'GDP順位MER': '5',\n",
       " 'ISO 3166-1': 'GB / GBR',\n",
       " 'ccTLD': '[[.uk]] / [[.gb]]<ref>使用は.ukに比べ圧倒的少数。</ref>',\n",
       " '人口値': '63,181,775<ref>[http://esa.un.org/unpd/wpp/Excel-Data/population.htm United Nations Department of Economic and Social Affairs>Population Division>Data>Population>Total Population]</ref>',\n",
       " '人口大きさ': '1 E7',\n",
       " '人口密度値': '246',\n",
       " '人口統計年': '2011',\n",
       " '人口順位': '22',\n",
       " '位置画像': 'Location_UK_EU_Europe_001.svg',\n",
       " '元首等氏名': '[[エリザベス2世]]',\n",
       " '元首等肩書': '[[イギリスの君主|女王]]',\n",
       " '公式国名': '{{lang|en|United Kingdom of Great Britain and Northern Ireland}}<ref>英語以外での正式国名:<br/>\\n*{{lang|gd|An Rìoghachd Aonaichte na Breatainn Mhòr agus Eirinn mu Thuath}}（[[スコットランド・ゲール語]]）<br/>\\n*{{lang|cy|Teyrnas Gyfunol Prydain Fawr a Gogledd Iwerddon}}（[[ウェールズ語]]）<br/>\\n*{{lang|ga|Ríocht Aontaithe na Breataine Móire agus Tuaisceart na hÉireann}}（[[アイルランド語]]）<br/>\\n*{{lang|kw|An Rywvaneth Unys a Vreten Veur hag Iwerdhon Glédh}}（[[コーンウォール語]]）<br/>\\n*{{lang|sco|Unitit Kinrick o Great Breetain an Northren Ireland}}（[[スコットランド語]]）<br/>\\n**{{lang|sco|Claught Kängrick o Docht Brätain an Norlin Airlann}}、{{lang|sco|Unitet Kängdom o Great Brittain an Norlin Airlann}}（アルスター・スコットランド語）</ref>',\n",
       " '公用語': '[[英語]]（事実上）',\n",
       " '国旗画像': 'Flag of the United Kingdom.svg',\n",
       " '国歌': '[[女王陛下万歳|神よ女王陛下を守り給え]]',\n",
       " '国章リンク': '（[[イギリスの国章|国章]]）',\n",
       " '国章画像': '[[ファイル:Royal Coat of Arms of the United Kingdom.svg|85px|イギリスの国章]]',\n",
       " '国際電話番号': '44',\n",
       " '夏時間': '+1',\n",
       " '建国形態': '建国',\n",
       " '日本語国名': 'グレートブリテン及び北アイルランド連合王国',\n",
       " '時間帯': '±0',\n",
       " '最大都市': 'ロンドン',\n",
       " '標語': '{{lang|fr|Dieu et mon droit}}<br/>（[[フランス語]]:神と私の権利）',\n",
       " '水面積率': '1.3%',\n",
       " '略名': 'イギリス',\n",
       " '確立年月日1': '[[927年]]／[[843年]]',\n",
       " '確立年月日2': '[[1707年]]',\n",
       " '確立年月日3': '[[1801年]]',\n",
       " '確立年月日4': '[[1927年]]',\n",
       " '確立形態1': '[[イングランド王国]]／[[スコットランド王国]]<br />（両国とも[[連合法 (1707年)|1707年連合法]]まで）',\n",
       " '確立形態2': '[[グレートブリテン王国]]建国<br />（[[連合法 (1707年)|1707年連合法]]）',\n",
       " '確立形態3': '[[グレートブリテン及びアイルランド連合王国]]建国<br />（[[連合法 (1800年)|1800年連合法]]）',\n",
       " '確立形態4': \"現在の国号「'''グレートブリテン及び北アイルランド連合王国'''」に変更\",\n",
       " '通貨': '[[スターリング・ポンド|UKポンド]] (&pound;)',\n",
       " '通貨コード': 'GBP',\n",
       " '面積値': '244,820',\n",
       " '面積大きさ': '1 E11',\n",
       " '面積順位': '76',\n",
       " '首相等氏名': '[[デーヴィッド・キャメロン]]',\n",
       " '首相等肩書': '[[イギリスの首相|首相]]',\n",
       " '首都': '[[ロンドン]]'}"
      ]
     },
     "execution_count": 7,
     "metadata": {},
     "output_type": "execute_result"
    }
   ],
   "source": [
    "match = re.search('基礎情報(.*?)^}}',eng['text'],flags=re.DOTALL+re.MULTILINE)\n",
    "info = match.group(1)\n",
    "templates = {}\n",
    "for itr in re.finditer('^\\|([^=]*)=(.*?)(?=^\\|)',info,flags=re.DOTALL+re.MULTILINE):\n",
    "    templates[itr.group(1).strip()]=itr.group(2).strip()\n",
    "templates"
   ]
  },
  {
   "cell_type": "markdown",
   "metadata": {},
   "source": [
    "## 26. 強調マークアップの除去"
   ]
  },
  {
   "cell_type": "code",
   "execution_count": 8,
   "metadata": {},
   "outputs": [
    {
     "data": {
      "text/plain": [
       "{'GDP/人': '36,727<ref name=\"imf-statistics-gdp\" />',\n",
       " 'GDP値': '2兆3162億<ref name=\"imf-statistics-gdp\" />',\n",
       " 'GDP値MER': '2兆4337億<ref name=\"imf-statistics-gdp\" />',\n",
       " 'GDP値元': '1兆5478億<ref name=\"imf-statistics-gdp\">[http://www.imf.org/external/pubs/ft/weo/2012/02/weodata/weorept.aspx?pr.x=70&pr.y=13&sy=2010&ey=2012&scsm=1&ssd=1&sort=country&ds=.&br=1&c=112&s=NGDP%2CNGDPD%2CPPPGDP%2CPPPPC&grp=0&a= IMF>Data and Statistics>World Economic Outlook Databases>By Countrise>United Kingdom]</ref>',\n",
       " 'GDP統計年': '2012',\n",
       " 'GDP統計年MER': '2012',\n",
       " 'GDP統計年元': '2012',\n",
       " 'GDP順位': '6',\n",
       " 'GDP順位MER': '5',\n",
       " 'ISO 3166-1': 'GB / GBR',\n",
       " 'ccTLD': '.uk / .gb<ref>使用は.ukに比べ圧倒的少数。</ref>',\n",
       " '人口値': '63,181,775<ref>[http://esa.un.org/unpd/wpp/Excel-Data/population.htm United Nations Department of Economic and Social Affairs>Population Division>Data>Population>Total Population]</ref>',\n",
       " '人口大きさ': '1 E7',\n",
       " '人口密度値': '246',\n",
       " '人口統計年': '2011',\n",
       " '人口順位': '22',\n",
       " '位置画像': 'Location_UK_EU_Europe_001.svg',\n",
       " '元首等氏名': 'エリザベス2世',\n",
       " '元首等肩書': 'イギリスの君主|女王',\n",
       " '公式国名': '{{lang|en|United Kingdom of Great Britain and Northern Ireland}}<ref>英語以外での正式国名:<br/>\\n*{{lang|gd|An Rìoghachd Aonaichte na Breatainn Mhòr agus Eirinn mu Thuath}}（スコットランド・ゲール語）<br/>\\n*{{lang|cy|Teyrnas Gyfunol Prydain Fawr a Gogledd Iwerddon}}（ウェールズ語）<br/>\\n*{{lang|ga|Ríocht Aontaithe na Breataine Móire agus Tuaisceart na hÉireann}}（アイルランド語）<br/>\\n*{{lang|kw|An Rywvaneth Unys a Vreten Veur hag Iwerdhon Glédh}}（コーンウォール語）<br/>\\n*{{lang|sco|Unitit Kinrick o Great Breetain an Northren Ireland}}（スコットランド語）<br/>\\n**{{lang|sco|Claught Kängrick o Docht Brätain an Norlin Airlann}}、{{lang|sco|Unitet Kängdom o Great Brittain an Norlin Airlann}}（アルスター・スコットランド語）</ref>',\n",
       " '公用語': '英語（事実上）',\n",
       " '国旗画像': 'Flag of the United Kingdom.svg',\n",
       " '国歌': '女王陛下万歳|神よ女王陛下を守り給え',\n",
       " '国章リンク': '（イギリスの国章|国章）',\n",
       " '国章画像': 'ファイル:Royal Coat of Arms of the United Kingdom.svg|85px|イギリスの国章',\n",
       " '国際電話番号': '44',\n",
       " '夏時間': '+1',\n",
       " '建国形態': '建国',\n",
       " '日本語国名': 'グレートブリテン及び北アイルランド連合王国',\n",
       " '時間帯': '±0',\n",
       " '最大都市': 'ロンドン',\n",
       " '標語': '{{lang|fr|Dieu et mon droit}}<br/>（フランス語:神と私の権利）',\n",
       " '水面積率': '1.3%',\n",
       " '略名': 'イギリス',\n",
       " '確立年月日1': '927年／843年',\n",
       " '確立年月日2': '1707年',\n",
       " '確立年月日3': '1801年',\n",
       " '確立年月日4': '1927年',\n",
       " '確立形態1': 'イングランド王国／スコットランド王国<br />（両国とも連合法 (1707年)|1707年連合法まで）',\n",
       " '確立形態2': 'グレートブリテン王国建国<br />（連合法 (1707年)|1707年連合法）',\n",
       " '確立形態3': 'グレートブリテン及びアイルランド連合王国建国<br />（連合法 (1800年)|1800年連合法）',\n",
       " '確立形態4': '現在の国号「グレートブリテン及び北アイルランド連合王国」に変更',\n",
       " '通貨': 'スターリング・ポンド|UKポンド (&pound;)',\n",
       " '通貨コード': 'GBP',\n",
       " '面積値': '244,820',\n",
       " '面積大きさ': '1 E11',\n",
       " '面積順位': '76',\n",
       " '首相等氏名': 'デーヴィッド・キャメロン',\n",
       " '首相等肩書': 'イギリスの首相|首相',\n",
       " '首都': 'ロンドン'}"
      ]
     },
     "execution_count": 8,
     "metadata": {},
     "output_type": "execute_result"
    }
   ],
   "source": [
    "for itr in re.finditer('^\\|([^=]*)=(.*?)(?=^\\|)',info,flags=re.DOTALL+re.MULTILINE):\n",
    "    key = itr.group(1).strip()\n",
    "    val = re.sub(\"\\'\\'+(.*?)\\'\\'+\",\"\\\\1\",itr.group(2).strip())\n",
    "    val = re.sub(\"\\[\\[(.*?)\\]\\]\",\"\\\\1\",val)\n",
    "    templates[key]=val\n",
    "templates"
   ]
  },
  {
   "cell_type": "markdown",
   "metadata": {},
   "source": [
    "## 27. 内部リンクの除去\n",
    "## 28. MediaWikiマークアップの除去"
   ]
  },
  {
   "cell_type": "code",
   "execution_count": 9,
   "metadata": {
    "scrolled": true
   },
   "outputs": [
    {
     "data": {
      "text/plain": [
       "{'GDP/人': '36,727',\n",
       " 'GDP値': '2兆3162億',\n",
       " 'GDP値MER': '2兆4337億',\n",
       " 'GDP値元': '1兆5478億 http://www.imf.org/external/pubs/ft/weo/2012/02/weodata/weorept.aspx?pr.x=70&pr.y=13&sy=2010&ey=2012&scsm=1&ssd=1&sort=country&ds=.&br=1&c=112&s=NGDP%2CNGDPD%2CPPPGDP%2CPPPPC&grp=0&a= IMF>Data and Statistics>World Economic Outlook Databases>By Countrise>United Kingdom ',\n",
       " 'GDP統計年': '2012',\n",
       " 'GDP統計年MER': '2012',\n",
       " 'GDP統計年元': '2012',\n",
       " 'GDP順位': '6',\n",
       " 'GDP順位MER': '5',\n",
       " 'ISO 3166-1': 'GB / GBR',\n",
       " 'ccTLD': ' .uk  /  .gb 使用は.ukに比べ圧倒的少数。',\n",
       " '人口値': '63,181,775 http://esa.un.org/unpd/wpp/Excel-Data/population.htm United Nations Department of Economic and Social Affairs>Population Division>Data>Population>Total Population ',\n",
       " '人口大きさ': '1 E7',\n",
       " '人口密度値': '246',\n",
       " '人口統計年': '2011',\n",
       " '人口順位': '22',\n",
       " '位置画像': 'Location_UK_EU_Europe_001.svg',\n",
       " '元首等氏名': ' エリザベス2世 ',\n",
       " '元首等肩書': ' イギリスの君主|女王 ',\n",
       " '公式国名': 'lang|en|United Kingdom of Great Britain and Northern Ireland英語以外での正式国名:\\n*lang|gd|An Rìoghachd Aonaichte na Breatainn Mhòr agus Eirinn mu Thuath（ スコットランド・ゲール語 ）\\n*lang|cy|Teyrnas Gyfunol Prydain Fawr a Gogledd Iwerddon（ ウェールズ語 ）\\n*lang|ga|Ríocht Aontaithe na Breataine Móire agus Tuaisceart na hÉireann（ アイルランド語 ）\\n*lang|kw|An Rywvaneth Unys a Vreten Veur hag Iwerdhon Glédh（ コーンウォール語 ）\\n*lang|sco|Unitit Kinrick o Great Breetain an Northren Ireland（ スコットランド語 ）\\n**lang|sco|Claught Kängrick o Docht Brätain an Norlin Airlann、lang|sco|Unitet Kängdom o Great Brittain an Norlin Airlann（アルスター・スコットランド語）',\n",
       " '公用語': ' 英語 （事実上）',\n",
       " '国旗画像': 'Flag of the United Kingdom.svg',\n",
       " '国歌': ' 女王陛下万歳|神よ女王陛下を守り給え ',\n",
       " '国章リンク': '（ イギリスの国章|国章 ）',\n",
       " '国章画像': ' ファイル:Royal Coat of Arms of the United Kingdom.svg|85px|イギリスの国章 ',\n",
       " '国際電話番号': '44',\n",
       " '夏時間': '+1',\n",
       " '建国形態': '建国',\n",
       " '日本語国名': 'グレートブリテン及び北アイルランド連合王国',\n",
       " '時間帯': '±0',\n",
       " '最大都市': 'ロンドン',\n",
       " '標語': 'lang|fr|Dieu et mon droit（ フランス語 :神と私の権利）',\n",
       " '水面積率': '1.3%',\n",
       " '略名': 'イギリス',\n",
       " '確立年月日1': ' 927年 ／ 843年 ',\n",
       " '確立年月日2': ' 1707年 ',\n",
       " '確立年月日3': ' 1801年 ',\n",
       " '確立年月日4': ' 1927年 ',\n",
       " '確立形態1': ' イングランド王国 ／ スコットランド王国 （両国とも 連合法 (1707年)|1707年連合法 まで）',\n",
       " '確立形態2': ' グレートブリテン王国 建国（ 連合法 (1707年)|1707年連合法 ）',\n",
       " '確立形態3': ' グレートブリテン及びアイルランド連合王国 建国（ 連合法 (1800年)|1800年連合法 ）',\n",
       " '確立形態4': '現在の国号「 グレートブリテン及び北アイルランド連合王国 」に変更',\n",
       " '通貨': ' スターリング・ポンド|UKポンド  (&pound;)',\n",
       " '通貨コード': 'GBP',\n",
       " '面積値': '244,820',\n",
       " '面積大きさ': '1 E11',\n",
       " '面積順位': '76',\n",
       " '首相等氏名': ' デーヴィッド・キャメロン ',\n",
       " '首相等肩書': ' イギリスの首相|首相 ',\n",
       " '首都': ' ロンドン '}"
      ]
     },
     "execution_count": 9,
     "metadata": {},
     "output_type": "execute_result"
    }
   ],
   "source": [
    "for itr in re.finditer('^\\|([^=]*)=(.*?)(?=^\\|)',info,flags=re.DOTALL+re.MULTILINE):\n",
    "    key = itr.group(1).strip()\n",
    "    val = re.sub(\"\\'\\'+(.*?)\\'\\'+\",\" \\\\1 \",itr.group(2).strip())\n",
    "    val = re.sub(\"\\[\\[(.*?)\\]\\]\",\" \\\\1 \",val)\n",
    "    val = re.sub(\"\\[(.*?)\\]\",\" \\\\1 \",val)\n",
    "    val = re.sub('<.*?>',\"\",val)\n",
    "    val = re.sub('{{|}}',\"\",val)\n",
    "    templates[key]=val\n",
    "templates"
   ]
  },
  {
   "cell_type": "markdown",
   "metadata": {},
   "source": [
    "## 29. 国旗画像のURLを取得する\n",
    "\n",
    "参考 \n",
    "\n",
    "- https://www.mediawiki.org/wiki/API:Imageinfo\n",
    "\n",
    "- https://www.mediawiki.org/wiki/API:Query/ja#Getting_a_list_of_page_IDs"
   ]
  },
  {
   "cell_type": "code",
   "execution_count": 10,
   "metadata": {},
   "outputs": [
    {
     "name": "stdout",
     "output_type": "stream",
     "text": [
      "https://upload.wikimedia.org/wikipedia/commons/a/ae/Flag_of_the_United_Kingdom.svg\n"
     ]
    }
   ],
   "source": [
    "flag_file = re.sub(' ','%20',templates['国旗画像'])\n",
    "\n",
    "query = \"https://ja.wikipedia.org/w/api.php?action=query&indexpageids&titles=File:{0}&prop=imageinfo&iiprop=url&format=json\".format(flag_file)\n",
    "with urllib.request.urlopen(query) as res:\n",
    "    line = res.read()\n",
    "    res_obj = json.loads(line)\n",
    "    idx = res_obj['query']['pageids'][0];\n",
    "    print(res_obj['query']['pages'][idx]['imageinfo'][0]['url'])"
   ]
  }
 ],
 "metadata": {
  "kernelspec": {
   "display_name": "Python 3",
   "language": "python",
   "name": "python3"
  },
  "language_info": {
   "codemirror_mode": {
    "name": "ipython",
    "version": 3
   },
   "file_extension": ".py",
   "mimetype": "text/x-python",
   "name": "python",
   "nbconvert_exporter": "python",
   "pygments_lexer": "ipython3",
   "version": "3.6.3"
  }
 },
 "nbformat": 4,
 "nbformat_minor": 2
}
