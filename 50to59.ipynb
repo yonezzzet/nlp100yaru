{
 "cells": [
  {
   "cell_type": "markdown",
   "metadata": {},
   "source": [
    "# 第6章: 英語テキストの処理"
   ]
  },
  {
   "cell_type": "code",
   "execution_count": 1,
   "metadata": {},
   "outputs": [
    {
     "name": "stdout",
     "output_type": "stream",
     "text": [
      "  % Total    % Received % Xferd  Average Speed   Time    Time     Time  Current\n",
      "                                 Dload  Upload   Total   Spent    Left  Speed\n",
      "100  8594  100  8594    0     0   8594      0  0:00:01 --:--:--  0:00:01 54050\n"
     ]
    }
   ],
   "source": [
    "!curl -O http://www.cl.ecei.tohoku.ac.jp/nlp100/data/nlp.txt"
   ]
  },
  {
   "cell_type": "code",
   "execution_count": 2,
   "metadata": {},
   "outputs": [
    {
     "name": "stdout",
     "output_type": "stream",
     "text": [
      "Natural language processing\r\n",
      "From Wikipedia, the free encyclopedia\r\n",
      "\r\n",
      "Natural language processing (NLP) is a field of computer science, artificial intelligence, and linguistics concerned with the interactions between computers and human (natural) languages. As such, NLP is related to the area of humani-computer interaction. Many challenges in NLP involve natural language understanding, that is, enabling computers to derive meaning from human or natural language input, and others involve natural language generation.\r\n",
      "\r\n",
      "History\r\n",
      "\r\n",
      "The history of NLP generally starts in the 1950s, although work can be found from earlier periods. In 1950, Alan Turing published an article titled \"Computing Machinery and Intelligence\" which proposed what is now called the Turing test as a criterion of intelligence.\r\n",
      "\r\n",
      "The Georgetown experiment in 1954 involved fully automatic translation of more than sixty Russian sentences into English. The authors claimed that within three or five years, machine translation would be a solved problem. However, real progress was much slower, and after the ALPAC report in 1966, which found that ten year long research had failed to fulfill the expectations, funding for machine translation was dramatically reduced. Little further research in machine translation was conducted until the late 1980s, when the first statistical machine translation systems were developed.\r\n",
      "\r\n",
      "Some notably successful NLP systems developed in the 1960s were SHRDLU, a natural language system working in restricted \"blocks worlds\" with restricted vocabularies, and ELIZA, a simulation of a Rogerian psychotherapist, written by Joseph Weizenbaum between 1964 to 1966. Using almost no information about human thought or emotion, ELIZA sometimes provided a startlingly human-like interaction. When the \"patient\" exceeded the very small knowledge base, ELIZA might provide a generic response, for example, responding to \"My head hurts\" with \"Why do you say your head hurts?\".\r\n",
      "\r\n",
      "During the 1970s many programmers began to write 'conceptual ontologies', which structured real-world information into computer-understandable data. Examples are MARGIE (Schank, 1975), SAM (Cullingford, 1978), PAM (Wilensky, 1978), TaleSpin (Meehan, 1976), QUALM (Lehnert, 1977), Politics (Carbonell, 1979), and Plot Units (Lehnert 1981). During this time, many chatterbots were written including PARRY, Racter, and Jabberwacky.\r\n",
      "\r\n",
      "Up to the 1980s, most NLP systems were based on complex sets of hand-written rules. Starting in the late 1980s, however, there was a revolution in NLP with the introduction of machine learning algorithms for language processing. This was due to both the steady increase in computational power resulting from Moore's Law and the gradual lessening of the dominance of Chomskyan theories of linguistics (e.g. transformational grammar), whose theoretical underpinnings discouraged the sort of corpus linguistics that underlies the machine-learning approach to language processing. Some of the earliest-used machine learning algorithms, such as decision trees, produced systems of hard if-then rules similar to existing hand-written rules. However, Part of speech tagging introduced the use of Hidden Markov Models to NLP, and increasingly, research has focused on statistical models, which make soft, probabilistic decisions based on attaching real-valued weights to the features making up the input data. The cache language models upon which many speech recognition systems now rely are examples of such statistical models. Such models are generally more robust when given unfamiliar input, especially input that contains errors (as is very common for real-world data), and produce more reliable results when integrated into a larger system comprising multiple subtasks.\r\n",
      "\r\n",
      "Many of the notable early successes occurred in the field of machine translation, due especially to work at IBM Research, where successively more complicated statistical models were developed. These systems were able to take advantage of existing multilingual textual corpora that had been produced by the Parliament of Canada and the European Union as a result of laws calling for the translation of all governmental proceedings into all official languages of the corresponding systems of government. However, most other systems depended on corpora specifically developed for the tasks implemented by these systems, which was (and often continues to be) a major limitation in the success of these systems. As a result, a great deal of research has gone into methods of more effectively learning from limited amounts of data.\r\n",
      "\r\n",
      "Recent research has increasingly focused on unsupervised and semi-supervised learning algorithms. Such algorithms are able to learn from data that has not been hand-annotated with the desired answers, or using a combination of annotated and non-annotated data. Generally, this task is much more difficult than supervised learning, and typically produces less accurate results for a given amount of input data. However, there is an enormous amount of non-annotated data available (including, among other things, the entire content of the World Wide Web), which can often make up for the inferior results.\r\n",
      "\r\n",
      "NLP using machine learning\r\n",
      "\r\n",
      "Modern NLP algorithms are based on machine learning, especially statistical machine learning. The paradigm of machine learning is different from that of most prior attempts at language processing. Prior implementations of language-processing tasks typically involved the direct hand coding of large sets of rules. The machine-learning paradigm calls instead for using general learning algorithms - often, although not always, grounded in statistical inference - to automatically learn such rules through the analysis of large corpora of typical real-world examples. A corpus (plural, \"corpora\") is a set of documents (or sometimes, individual sentences) that have been hand-annotated with the correct values to be learned.\r\n",
      "\r\n",
      "Many different classes of machine learning algorithms have been applied to NLP tasks. These algorithms take as input a large set of \"features\" that are generated from the input data. Some of the earliest-used algorithms, such as decision trees, produced systems of hard if-then rules similar to the systems of hand-written rules that were then common. Increasingly, however, research has focused on statistical models, which make soft, probabilistic decisions based on attaching real-valued weights to each input feature. Such models have the advantage that they can express the relative certainty of many different possible answers rather than only one, producing more reliable results when such a model is included as a component of a larger system.\r\n",
      "\r\n",
      "Systems based on machine-learning algorithms have many advantages over hand-produced rules:\r\n",
      "\r\n",
      "The learning procedures used during machine learning automatically focus on the most common cases, whereas when writing rules by hand it is often not obvious at all where the effort should be directed.\r\n",
      "Automatic learning procedures can make use of statistical inference algorithms to produce models that are robust to unfamiliar input (e.g. containing words or structures that have not been seen before) and to erroneous input (e.g. with misspelled words or words accidentally omitted). Generally, handling such input gracefully with hand-written rules -- or more generally, creating systems of hand-written rules that make soft decisions -- extremely difficult, error-prone and time-consuming.\r\n",
      "Systems based on automatically learning the rules can be made more accurate simply by supplying more input data. However, systems based on hand-written rules can only be made more accurate by increasing the complexity of the rules, which is a much more difficult task. In particular, there is a limit to the complexity of systems based on hand-crafted rules, beyond which the systems become more and more unmanageable. However, creating more data to input to machine-learning systems simply requires a corresponding increase in the number of man-hours worked, generally without significant increases in the complexity of the annotation process.\r\n",
      "The subfield of NLP devoted to learning approaches is known as Natural Language Learning (NLL) and its conference CoNLL and peak body SIGNLL are sponsored by ACL, recognizing also their links with Computational Linguistics and Language Acquisition. When the aims of computational language learning research is to understand more about human language acquisition, or psycholinguistics, NLL overlaps into the related field of Computational Psycholinguistics.\r\n",
      "\r\n"
     ]
    }
   ],
   "source": [
    "!cat nlp.txt"
   ]
  },
  {
   "cell_type": "markdown",
   "metadata": {},
   "source": [
    "## 50. 文区切り"
   ]
  },
  {
   "cell_type": "code",
   "execution_count": 3,
   "metadata": {},
   "outputs": [
    {
     "name": "stdout",
     "output_type": "stream",
     "text": [
      "['Natural language processing (NLP) is a field of computer science, artificial intelligence, and linguistics concerned with the interactions between computers and human (natural) languages.', 'As such, NLP is related to the area of humani-computer interaction.', 'Many challenges in NLP involve natural language understanding, that is, enabling computers to derive meaning from human or natural language input, and others involve natural language generation.', 'The history of NLP generally starts in the 1950s, although work can be found from earlier periods.']\n"
     ]
    }
   ],
   "source": [
    "import re\n",
    "\n",
    "sentences = []\n",
    "with open('nlp.txt') as f:\n",
    "    for line in f:\n",
    "        for it in re.finditer('[A-Z].*?[\\.!;:](?=(\\s[A-Z]|$))', line, flags=0):\n",
    "            sentences.append(it.group(0))\n",
    "print(sentences[:4])"
   ]
  },
  {
   "cell_type": "markdown",
   "metadata": {},
   "source": [
    "## 51. 単語の切り出し"
   ]
  },
  {
   "cell_type": "code",
   "execution_count": 4,
   "metadata": {},
   "outputs": [
    {
     "name": "stdout",
     "output_type": "stream",
     "text": [
      "Natural\n",
      "language\n",
      "processing\n",
      "NLP\n",
      "is\n",
      "a\n",
      "field\n",
      "of\n",
      "computer\n",
      "science\n",
      "artificial\n",
      "intelligence\n",
      "and\n",
      "linguistics\n",
      "concerned\n",
      "with\n",
      "the\n",
      "interactions\n",
      "between\n",
      "computers\n",
      "and\n",
      "human\n",
      "natural\n",
      "languages\n",
      "\n"
     ]
    }
   ],
   "source": [
    "all_words = [] # 配列の配列にする\n",
    "for sen in sentences:\n",
    "    all_words.append(list(map(lambda w: re.sub('[^a-zA-Z]','',w),sen.split(' '))))\n",
    "\n",
    "for words in all_words[:1]:\n",
    "    for word in words:\n",
    "        print(word)\n",
    "    print()"
   ]
  },
  {
   "cell_type": "markdown",
   "metadata": {},
   "source": [
    "## 52. ステミング\n",
    "\n",
    "https://en.wikipedia.org/wiki/Stemming\n",
    "\n",
    "> stemming is the process of reducing inflected (or sometimes derived) words to their word stem, base or root form—generally a written word form.\n",
    "\n",
    "要は英単語の語幹？を切り出す\n",
    "\n",
    "```\n",
    "#問題に書いてあったモジュールがpython2用だったので、python3で動きそうなのをインストール\n",
    "pip install porter2stemmer\n",
    "```"
   ]
  },
  {
   "cell_type": "code",
   "execution_count": 5,
   "metadata": {},
   "outputs": [
    {
     "name": "stdout",
     "output_type": "stream",
     "text": [
      "Natural\tNatur\n",
      "language\tlanguag\n",
      "processing\tprocess\n",
      "NLP\tNLP\n",
      "is\tis\n",
      "a\ta\n",
      "field\tfield\n",
      "of\tof\n",
      "computer\tcomput\n",
      "science\tscienc\n",
      "artificial\tartifici\n",
      "intelligence\tintellig\n",
      "and\tand\n",
      "linguistics\tlinguist\n",
      "concerned\tconcern\n",
      "with\twith\n",
      "the\tthe\n",
      "interactions\tinteract\n",
      "between\tbetween\n",
      "computers\tcomput\n",
      "and\tand\n",
      "human\thuman\n",
      "natural\tnatur\n",
      "languages\tlanguag\n"
     ]
    }
   ],
   "source": [
    "import porter2stemmer as p2s\n",
    "\n",
    "stemmer = p2s.Porter2Stemmer()\n",
    "for words in all_words[:1]:\n",
    "    for word in words:\n",
    "        print(\"{}\\t{}\".format(word,stemmer.stem(word)))"
   ]
  },
  {
   "cell_type": "markdown",
   "metadata": {},
   "source": [
    "## 53. Tokenization\n",
    "\n",
    "https://stanfordnlp.github.io/CoreNLP/\n",
    "\n",
    "このためにJDKを入れました。。。"
   ]
  },
  {
   "cell_type": "code",
   "execution_count": 6,
   "metadata": {
    "collapsed": true
   },
   "outputs": [],
   "source": [
    "with open('for53.txt','w') as f:\n",
    "    for sentence in sentences:\n",
    "        print(sentence,file=f)\n"
   ]
  },
  {
   "cell_type": "markdown",
   "metadata": {},
   "source": [
    "```\n",
    "java -cp \"corenlp/*\" -Xmx3g edu.stanford.nlp.pipeline.StanfordCoreNLP -annotators tokenize,ssplit,pos,lemma,ner,parse,dcoref -file for53.txt\n",
    "```"
   ]
  },
  {
   "cell_type": "code",
   "execution_count": 7,
   "metadata": {},
   "outputs": [
    {
     "name": "stdout",
     "output_type": "stream",
     "text": [
      "<?xml version=\"1.0\" encoding=\"UTF-8\"?>\r",
      "\r\n",
      "<?xml-stylesheet href=\"CoreNLP-to-HTML.xsl\" type=\"text/xsl\"?>\r",
      "\r\n",
      "<root>\r",
      "\r\n",
      "  <document>\r",
      "\r\n",
      "    <docId>for53.txt</docId>\r",
      "\r\n",
      "    <sentences>\r",
      "\r\n",
      "      <sentence id=\"1\">\r",
      "\r\n",
      "        <tokens>\r",
      "\r\n",
      "          <token id=\"1\">\r",
      "\r\n",
      "            <word>Natural</word>\r",
      "\r\n",
      "            <lemma>natural</lemma>\r",
      "\r\n",
      "            <CharacterOffsetBegin>0</CharacterOffsetBegin>\r",
      "\r\n",
      "            <CharacterOffsetEnd>7</CharacterOffsetEnd>\r",
      "\r\n",
      "            <POS>JJ</POS>\r",
      "\r\n",
      "            <NER>O</NER>\r",
      "\r\n",
      "            <Speaker>PER0</Speaker>\r",
      "\r\n",
      "          </token>\r",
      "\r\n",
      "          <token id=\"2\">\r",
      "\r\n",
      "            <word>language</word>\r",
      "\r\n",
      "            <lemma>language</lemma>\r",
      "\r\n",
      "            <CharacterOffsetBegin>8</CharacterOffsetBegin>\r",
      "\r\n",
      "            <CharacterOffsetEnd>16</CharacterOffsetEnd>\r",
      "\r\n",
      "            <POS>NN</POS>\r",
      "\r\n",
      "            <NER>O</NER>\r",
      "\r\n",
      "            <Speaker>PER0</Speaker>\r",
      "\r\n",
      "          </token>\r",
      "\r\n",
      "          <token id=\"3\">\r",
      "\r\n",
      "            <word>processing</word>\r",
      "\r\n",
      "            <lemma>processing</lemma>\r",
      "\r\n",
      "            <CharacterOffsetBegin>17</CharacterOffsetBegin>\r",
      "\r\n"
     ]
    }
   ],
   "source": [
    "!head -n30 for53.txt.xml"
   ]
  },
  {
   "cell_type": "markdown",
   "metadata": {},
   "source": [
    "xmlの読み込み\n",
    "\n",
    "https://docs.python.jp/3/library/xml.etree.elementtree.html"
   ]
  },
  {
   "cell_type": "code",
   "execution_count": 8,
   "metadata": {
    "collapsed": true
   },
   "outputs": [],
   "source": [
    "import xml.etree.ElementTree as ET\n",
    "tree = ET.parse('for53.txt.xml')\n",
    "root = tree.getroot()"
   ]
  },
  {
   "cell_type": "code",
   "execution_count": 9,
   "metadata": {},
   "outputs": [
    {
     "name": "stdout",
     "output_type": "stream",
     "text": [
      "Natural\n",
      "language\n",
      "processing\n",
      "-LRB-\n",
      "NLP\n",
      "-RRB-\n",
      "is\n",
      "a\n",
      "field\n",
      "of\n",
      "computer\n",
      "science\n",
      ",\n",
      "artificial\n",
      "intelligence\n",
      ",\n",
      "and\n",
      "linguistics\n",
      "concerned\n",
      "with\n",
      "the\n",
      "interactions\n",
      "between\n",
      "computers\n",
      "and\n",
      "human\n",
      "-LRB-\n",
      "natural\n",
      "-RRB-\n",
      "languages\n",
      ".\n"
     ]
    }
   ],
   "source": [
    "for token in root.findall('./document/sentences/sentence[@id=\"1\"]/tokens/token'):\n",
    "    print(token.find('word').text)"
   ]
  },
  {
   "cell_type": "markdown",
   "metadata": {},
   "source": [
    "## 54. 品詞タグ付け"
   ]
  },
  {
   "cell_type": "code",
   "execution_count": 10,
   "metadata": {},
   "outputs": [
    {
     "name": "stdout",
     "output_type": "stream",
     "text": [
      "Natural\tnatural\tJJ\n",
      "language\tlanguage\tNN\n",
      "processing\tprocessing\tNN\n",
      "-LRB-\t-lrb-\t-LRB-\n",
      "NLP\tnlp\tNN\n",
      "-RRB-\t-rrb-\t-RRB-\n",
      "is\tbe\tVBZ\n",
      "a\ta\tDT\n",
      "field\tfield\tNN\n",
      "of\tof\tIN\n",
      "computer\tcomputer\tNN\n",
      "science\tscience\tNN\n",
      ",\t,\t,\n",
      "artificial\tartificial\tJJ\n",
      "intelligence\tintelligence\tNN\n",
      ",\t,\t,\n",
      "and\tand\tCC\n",
      "linguistics\tlinguistics\tNNS\n",
      "concerned\tconcern\tVBN\n",
      "with\twith\tIN\n",
      "the\tthe\tDT\n",
      "interactions\tinteraction\tNNS\n",
      "between\tbetween\tIN\n",
      "computers\tcomputer\tNNS\n",
      "and\tand\tCC\n",
      "human\thuman\tJJ\n",
      "-LRB-\t-lrb-\t-LRB-\n",
      "natural\tnatural\tJJ\n",
      "-RRB-\t-rrb-\t-RRB-\n",
      "languages\tlanguage\tNNS\n",
      ".\t.\t.\n"
     ]
    }
   ],
   "source": [
    "for token in root.findall('./document/sentences/sentence[@id=\"1\"]/tokens/token'):\n",
    "    print(\"{}\\t{}\\t{}\".format(token.find('word').text,token.find('lemma').text,token.find('POS').text))"
   ]
  },
  {
   "cell_type": "markdown",
   "metadata": {},
   "source": [
    "## 55. 固有表現抽出\n",
    "\n",
    "人名はNERが\"PERSON\"のもの\n",
    "\n",
    "NERとは？→named entity recognition\n",
    "\n",
    "https://ja.wikipedia.org/wiki/固有表現抽出"
   ]
  },
  {
   "cell_type": "code",
   "execution_count": 11,
   "metadata": {},
   "outputs": [
    {
     "name": "stdout",
     "output_type": "stream",
     "text": [
      "Alan\n",
      "Turing\n",
      "Joseph\n",
      "Weizenbaum\n",
      "MARGIE\n",
      "Schank\n",
      "Wilensky\n",
      "Meehan\n",
      "Lehnert\n",
      "Carbonell\n",
      "Lehnert\n",
      "Racter\n",
      "Jabberwacky\n",
      "Moore\n"
     ]
    }
   ],
   "source": [
    "for token in root.findall('./document/sentences/sentence/tokens/token'):\n",
    "    if token.find('NER').text == \"PERSON\":\n",
    "        print(token.find('word').text)"
   ]
  },
  {
   "cell_type": "markdown",
   "metadata": {},
   "source": [
    "## 56. 共参照解析\n",
    "\n",
    "共参照解析=coreference analysis\n",
    "\n",
    "https://en.wikipedia.org/wiki/Coreference\n",
    "\n",
    ">In linguistics, coreference, sometimes written co-reference, occurs when two or more expressions in a text refer to the same person or thing; they have the same referent, e.g. Bill said he would come; the proper noun Bill and the pronoun he refer to the same person, namely to Bill.\n",
    "\n",
    "なるほどね。それで、xmlの中ではどこ？"
   ]
  },
  {
   "cell_type": "code",
   "execution_count": 12,
   "metadata": {},
   "outputs": [
    {
     "name": "stdout",
     "output_type": "stream",
     "text": [
      "    <coreference>\r",
      "\r\n",
      "      <coreference>\r",
      "\r\n",
      "        <mention representative=\"true\">\r",
      "\r\n",
      "          <sentence>1</sentence>\r",
      "\r\n",
      "          <start>24</start>\r",
      "\r\n",
      "          <end>25</end>\r",
      "\r\n",
      "          <head>24</head>\r",
      "\r\n",
      "          <text>computers</text>\r",
      "\r\n",
      "        </mention>\r",
      "\r\n",
      "        <mention>\r",
      "\r\n",
      "          <sentence>3</sentence>\r",
      "\r\n",
      "          <start>14</start>\r",
      "\r\n",
      "          <end>15</end>\r",
      "\r\n",
      "          <head>14</head>\r",
      "\r\n",
      "          <text>computers</text>\r",
      "\r\n",
      "        </mention>\r",
      "\r\n",
      "      </coreference>\r",
      "\r\n",
      "      <coreference>\r",
      "\r\n",
      "        <mention representative=\"true\">\r",
      "\r\n",
      "          <sentence>4</sentence>\r",
      "\r\n",
      "          <start>4</start>\r",
      "\r\n",
      "          <end>5</end>\r",
      "\r\n",
      "          <head>4</head>\r",
      "\r\n",
      "          <text>NLP</text>\r",
      "\r\n",
      "        </mention>\r",
      "\r\n",
      "        <mention>\r",
      "\r\n",
      "          <sentence>17</sentence>\r",
      "\r\n",
      "          <start>7</start>\r",
      "\r\n",
      "          <end>8</end>\r",
      "\r\n",
      "          <head>7</head>\r",
      "\r\n",
      "          <text>NLP</text>\r",
      "\r\n",
      "        </mention>\r",
      "\r\n",
      "        <mention>\r",
      "\r\n",
      "          <sentence>21</sentence>\r",
      "\r\n",
      "          <start>15</start>\r",
      "\r\n",
      "          <end>16</end>\r",
      "\r\n",
      "          <head>15</head>\r",
      "\r\n",
      "          <text>NLP</text>\r",
      "\r\n",
      "        </mention>\r",
      "\r\n",
      "      </coreference>\r",
      "\r\n"
     ]
    }
   ],
   "source": [
    "!cat for53.txt.xml | grep -A 40 'coreference' | head -n40"
   ]
  },
  {
   "cell_type": "markdown",
   "metadata": {},
   "source": [
    "`corerefence`タグ中の複数の`mention`タグでcoreferenceを表現しているようだ。また、代表参照表現には'representative' attributeをtrueとしている。それを踏まえて。。。"
   ]
  },
  {
   "cell_type": "code",
   "execution_count": 13,
   "metadata": {},
   "outputs": [
    {
     "name": "stdout",
     "output_type": "stream",
     "text": [
      "Natural language processing -LRB- NLP -RRB- is a field of computer science , artificial intelligence , and linguistics concerned with the interactions between computers and human -LRB- natural -RRB- languages . \n",
      "As such , NLP is related to the area of humani-computer interaction . \n",
      "Many challenges in NLP involve natural language understanding , that is , enabling computers(computers) to derive meaning from human or natural language input , and others involve natural language generation . \n",
      "The history of NLP generally starts in the 1950s , although work can be found from earlier periods . \n",
      "In 1950 , Alan Turing published an article titled `` Computing Machinery and Intelligence '' which proposed what is now called the Alan Turing(Turing) test as a criterion of intelligence . \n",
      "The Georgetown experiment in 1954 involved fully automatic translation of more than sixty Russian sentences into English . \n",
      "The authors claimed that within three or five years , a solved problem(machine translation) translation would be a solved problem . \n",
      "However , real progress was much slower , and after the ALPAC report in 1966 , which found that ten year long research had failed to fulfill the expectations , funding for machine translation was dramatically reduced . \n",
      "Little further research in a solved problem(machine translation) translation was conducted until the late 1980s , when the first statistical machine translation systems were developed . \n",
      "Some notably successful NLP systems developed in the 1960s were SHRDLU , SHRDLU(a natural language system working in restricted `` blocks worlds '' with restricted vocabularies) natural language system working in restricted `` blocks worlds '' with restricted vocabularies , and ELIZA , a simulation of a Rogerian psychotherapist , written by Joseph Weizenbaum between 1964 to 1966 . \n",
      "Using almost no information about human thought or emotion , ELIZA sometimes provided a startlingly human-like interaction . \n",
      "When the `` patient '' exceeded the very small knowledge base , ELIZA(ELIZA) might provide a generic response , for example , responding to `` the `` patient ''(My) head hurts '' with `` Why do you say you(your) head hurts ? '' \n",
      ". \n",
      "During the 1970s many programmers began to write ` conceptual ontologies ' , which structured real-world information into computer-understandable data . \n",
      "Examples are MARGIE -LRB- Schank , 1975 -RRB- , SAM -LRB- Cullingford , 1978 -RRB- , PAM -LRB- Wilensky , 1978(1978) -RRB- , TaleSpin -LRB- Meehan , 1976 -RRB- , QUALM -LRB- Lehnert , 1977 -RRB- , Politics -LRB- Carbonell , 1979 -RRB- , and Plot Units -LRB- Lehnert(Lehnert 1981) 1981 -RRB- . \n",
      "During this time , many chatterbots were written including PARRY , Racter , and Jabberwacky . \n",
      "Up to the late 1980s(the 1980s) 1980s , most NLP(NLP) systems were based on complex sets of hand-written rules . \n",
      "Starting in the late 1980s(the late 1980s) late 1980s , however , there was a revolution in NLP with the introduction of machine learning algorithms for language processing . \n",
      "This was due to both the steady increase in computational power resulting from Moore 's Law and the gradual lessening of the dominance of Chomskyan theories of linguistics -LRB- e.g. transformational grammar -RRB- , whose theoretical underpinnings discouraged the sort of corpus linguistics that underlies the machine-learning approach to language processing(language processing) processing . \n",
      "Some of the earliest-used machine learning machine learning algorithms for language processing(algorithms) , such as decision trees , produced systems of hard if-then rules similar to existing hand-written rules . \n",
      "However , Part of speech tagging introduced the use of Hidden Markov Models to NLP(NLP) , and increasingly , research has focused on statistical models , which make soft , probabilistic decisions based on attaching real-valued weights to the features making up the input data(statistical models) models , which make soft , probabilistic decisions based on attaching real-valued weights to the features making up the input data . \n",
      "The cache language models upon which many speech recognition systems now rely are The cache language models upon which many speech recognition systems now rely(examples of such statistical models) of such statistical models . \n",
      "Such models are generally more robust when given unfamiliar input , especially as input(input that contains errors -LRB- as is very common for real-world data -RRB-) that contains errors -LRB- as is very common for real-world data -RRB- , and produce more reliable results when integrated into a larger system comprising multiple subtasks . \n",
      "Many of the notable early successes occurred in the field of a solved problem(machine translation) translation , due especially to work at IBM Research , where successively more complicated statistical models were developed . \n",
      "many speech recognition systems(These systems) systems were able to take the advantage(advantage of existing multilingual textual corpora that had been produced by the Parliament of Canada and the European Union as a result of laws calling for the translation of all governmental proceedings into all official languages of the corresponding systems of government) of existing multilingual textual corpora that had been produced by the Parliament of Canada and the European Union as a result of laws calling for the translation of all governmental proceedings into all official languages of the corresponding systems of government . \n",
      "However , most other systems depended on corpora specifically developed for the tasks implemented by many speech recognition systems(these systems) systems , which was -LRB- and often continues to be -RRB- a major limitation in the success of many speech recognition systems(these systems) systems . \n",
      "As a result , a great deal of research has gone into methods of more effectively learning from limited amounts of data . \n",
      "Recent research has increasingly focused on unsupervised and semi-supervised learning algorithms . \n",
      "Such algorithms are able to learn from data(data that has not been hand-annotated with the desired answers) that has not been hand-annotated with the desired answers , or using a combination of annotated and non-annotated data . \n",
      "Generally , this task is much more difficult than supervised learning , and typically produces less accurate results for a given amount of input data . \n",
      "However , there is an enormous amount of non-annotated data available -LRB- including , among other things , the entire content of the World Wide Web -RRB- , which can often make up for the inferior results . \n",
      "Modern NLP algorithms are based on machine learning , especially statistical machine learning(machine learning) learning , especially statistical machine learning . \n",
      "The paradigm of machine learning , especially statistical machine learning(machine learning) learning is different from that of most prior attempts at language processing(language processing) processing . \n",
      "Prior implementations of language-processing tasks typically involved the direct hand coding of large sets of hard if-then rules similar to existing hand-written rules(rules) . \n",
      "The machine-learning paradigm calls instead for using general learning algorithms - often , although not always , grounded in statistical inference - to automatically learn such rules through the analysis of large corpora of typical real-world examples . \n",
      "A corpus -LRB- plural , existing multilingual textual corpora that had been produced by the Parliament of Canada and the European Union as a result of laws calling for the translation of all governmental proceedings into all official languages of the corresponding systems of government(`` corpora '') corpora '' -RRB- is A corpus -LRB- plural , `` corpora '' -RRB-(a set of documents -LRB- or sometimes , individual sentences -RRB- that have been hand-annotated with the correct values to be learned) set of documents -LRB- or sometimes , individual sentences -RRB- that have been hand-annotated with the correct values to be learned . \n",
      "Many different classes of machine learning algorithms for language processing(machine learning algorithms) learning algorithms have been applied to NLP tasks . \n",
      "machine learning algorithms for language processing(These algorithms) algorithms take as input a large set of `` features '' that are generated from the input data(the input data) input data . \n",
      "Some of the earliest-used algorithms , such as decision trees(decision trees) trees , produced systems of hard if-then rules similar to the systems of hand-written rules(hand-written rules) rules that were then common . \n"
     ]
    },
    {
     "name": "stdout",
     "output_type": "stream",
     "text": [
      "Increasingly , however , research has focused on statistical models , which make soft , probabilistic decisions based on attaching real-valued weights to the features making up the input data(statistical models) models , which make soft , probabilistic decisions(soft , probabilistic decisions) , probabilistic decisions based on attaching real-valued weights(real-valued weights) weights to each input feature . \n",
      "Such models have the advantage that Some of the earliest-used algorithms , such as decision trees(they) can express the relative certainty of many different possible answers rather than only one , producing more reliable results when such a model is included as a component of a larger system . \n",
      "Systems based on machine-learning algorithms have many advantages over hand-produced rules : The learning procedures used during machine learning , especially statistical machine learning(machine learning) learning automatically focus on the most common cases , whereas when writing hard if-then rules similar to existing hand-written rules(rules) by hand it is often not obvious at all where the effort should be directed . \n",
      "Automatic learning The learning procedures used during machine learning(procedures) can make use of statistical inference algorithms to produce models that are robust to unfamiliar input -LRB- e.g. containing words or structures that have not been seen before -RRB- and to erroneous input -LRB- e.g. with misspelled words or words accidentally omitted -RRB- . \n",
      "Generally , handling such input gracefully with hand-written rules(hand-written rules) rules -- or more generally , creating systems of hand-written rules(hand-written rules) rules that make soft decisions -- extremely difficult , error-prone and time-consuming . \n",
      "Systems based on automatically learning the rules can be made more accurate simply by supplying more input data . \n",
      "However , the systems(systems based on hand-written rules) based on hand-written rules(hand-written rules) rules can only be made more accurate by increasing the complexity of the rules(the rules) rules , which is a much more difficult task . \n",
      "In particular , there is a limit to the complexity of systems based on hand-crafted rules , beyond which the systems become more and more unmanageable . \n",
      "However , creating more data to input to Systems based on machine-learning algorithms(machine-learning systems) systems simply requires a corresponding increase in the number of man-hours worked , generally without significant increases in the complexity of the annotation process . \n",
      "The subfield of NLP devoted to learning approaches is known as Natural Language Learning -LRB- NLL -RRB- and Natural Language Learning -LRB- NLL -RRB-(its) conference CoNLL and peak body SIGNLL are sponsored by ACL , recognizing also their links with Computational Linguistics and Language Acquisition . \n",
      "When the aims of computational language learning research is to understand more about human language acquisition , or psycholinguistics , NLL overlaps into the related field of Computational Psycholinguistics . \n"
     ]
    }
   ],
   "source": [
    "words_in_xml = []\n",
    "    \n",
    "for sentence in root.findall('./document/sentences/sentence'):\n",
    "    tokens = []\n",
    "    for token in sentence.findall('./tokens/token'):\n",
    "        tokens.append(token.find('word').text)\n",
    "    words_in_xml.append(tokens[:])\n",
    "\n",
    "def cor_sub(mention,rep):\n",
    "    sub = \"{}({})\".format(rep,mention.find('text').text)\n",
    "    i = int(mention.find('sentence').text) - 1\n",
    "    start = int(mention.find('start').text) - 1\n",
    "    end   = int(mention.find('end').text) - 1\n",
    "    for word in words_in_xml[i][start:end]:\n",
    "        word = ''\n",
    "    words_in_xml[i][start]=sub\n",
    "    \n",
    "for coreference in root.findall('./document/coreference/coreference'):\n",
    "    for mention in coreference.findall('mention'):\n",
    "        if 'representative' in mention.attrib.keys():\n",
    "            rep = mention.find('text').text\n",
    "            continue\n",
    "        cor_sub(mention,rep)\n",
    "\n",
    "for sentence in words_in_xml:\n",
    "    for word in sentence:\n",
    "        print(word,end=' ')\n",
    "    print()"
   ]
  },
  {
   "cell_type": "markdown",
   "metadata": {
    "collapsed": true
   },
   "source": [
    "## 57. 係り受け解析\n",
    "\n",
    "係り受けの関係はつまり属性(type)をもつ有向グラフ。\n",
    "\n",
    "隣接行列を応用すればどうか。\n",
    "\n",
    "||idx=0|idx=1|idx=2|idx=3|...|\n",
    "|-----|---|-----|-----|-----|---|\n",
    "|idx=0|''|''|''|root|...|\n",
    "|idx=1|''|''|''|''|...|\n",
    "|idx=2|''|''|''|''|...|\n",
    "|idx=3|''|''|nsubj|''|...|\n",
    "\n",
    "例えばこの表では、行がgovernor,列がdependantなどとして、typeを要素としてもつ。idx=3の単語がroot要素で、idx=3の子要素(nsubj)がidx=2の単語、という具合。"
   ]
  },
  {
   "cell_type": "code",
   "execution_count": 14,
   "metadata": {},
   "outputs": [
    {
     "name": "stdout",
     "output_type": "stream",
     "text": [
      "digraph graphname{  \"-1:.\" -> \"8:field\" [label=\"root\"]  \"2:processing\" -> \"0:Natural\" [label=\"amod\"]  \"2:processing\" -> \"1:language\" [label=\"compound\"]  \"2:processing\" -> \"4:NLP\" [label=\"appos\"]  \"4:NLP\" -> \"3:-LRB-\" [label=\"punct\"]  \"4:NLP\" -> \"5:-RRB-\" [label=\"punct\"]  \"8:field\" -> \"2:processing\" [label=\"nsubj\"]  \"8:field\" -> \"6:is\" [label=\"cop\"]  \"8:field\" -> \"7:a\" [label=\"det\"]  \"8:field\" -> \"11:science\" [label=\"nmod:of\"]  \"8:field\" -> \"12:,\" [label=\"punct\"]  \"8:field\" -> \"14:intelligence\" [label=\"conj:and\"]  \"8:field\" -> \"15:,\" [label=\"punct\"]  \"8:field\" -> \"16:and\" [label=\"cc\"]  \"8:field\" -> \"17:linguistics\" [label=\"conj:and\"]  \"8:field\" -> \"30:.\" [label=\"punct\"]  \"11:science\" -> \"9:of\" [label=\"case\"]  \"11:science\" -> \"10:computer\" [label=\"compound\"]  \"14:intelligence\" -> \"13:artificial\" [label=\"amod\"]  \"17:linguistics\" -> \"18:concerned\" [label=\"acl\"]  \"18:concerned\" -> \"21:interactions\" [label=\"nmod:with\"]  \"21:interactions\" -> \"19:with\" [label=\"case\"]  \"21:interactions\" -> \"20:the\" [label=\"det\"]  \"21:interactions\" -> \"23:computers\" [label=\"nmod:between\"]  \"23:computers\" -> \"22:between\" [label=\"case\"]  \"23:computers\" -> \"24:and\" [label=\"cc\"]  \"23:computers\" -> \"29:languages\" [label=\"conj:and\"]  \"29:languages\" -> \"25:human\" [label=\"amod\"]  \"29:languages\" -> \"26:-LRB-\" [label=\"punct\"]  \"29:languages\" -> \"27:natural\" [label=\"amod\"]  \"29:languages\" -> \"28:-RRB-\" [label=\"punct\"] }\n"
     ]
    }
   ],
   "source": [
    "import pydot\n",
    "\n",
    "for n,dependencies in enumerate(root.findall('.//dependencies[@type=\"collapsed-dependencies\"]')):\n",
    "    matrix = [[None for i in range(len(words_in_xml[n])+1)] for j in range(len(words_in_xml[n])+1)]\n",
    "    for dep in dependencies:\n",
    "        i = int(dep.find('governor').attrib['idx'])\n",
    "        j = int(dep.find('dependent').attrib['idx'])\n",
    "        matrix[i][j]=dep.attrib['type']\n",
    "    s = 'digraph graphname{ '\n",
    "    for l,line in enumerate(matrix):\n",
    "        for k,di in enumerate(line):\n",
    "            if di is not None:\n",
    "                #s += ' \"{}\" -> \"{}\" [label=\"{}\"] '.format(words_in_xml[n][l-1],words_in_xml[n][k-1],di)\n",
    "                s += ' \"{}:{}\" -> \"{}:{}\" [label=\"{}\"] '.format(l-1,words_in_xml[n][l-1],k-1,words_in_xml[n][k-1],di)\n",
    "    s += '}'\n",
    "    print(s)\n",
    "    g = pydot.graph_from_dot_data(s)\n",
    "    g[0].write_png('57_out.png')\n",
    "    break"
   ]
  },
  {
   "cell_type": "markdown",
   "metadata": {},
   "source": [
    "![title](57_out.png)"
   ]
  },
  {
   "cell_type": "markdown",
   "metadata": {},
   "source": [
    "## 58. タプルの抽出"
   ]
  },
  {
   "cell_type": "code",
   "execution_count": 15,
   "metadata": {},
   "outputs": [
    {
     "name": "stdout",
     "output_type": "stream",
     "text": [
      "understanding\tenabling\tcomputers(computers)\n",
      "others\tinvolve\tgeneration\n",
      "Turing\tpublished\tarticle\n",
      "experiment\tinvolved\ttranslation\n",
      "ELIZA\tprovided\tinteraction\n",
      "patient\texceeded\tbase\n",
      "ELIZA(ELIZA)\tprovide\tresponse\n",
      "which\tstructured\tinformation\n",
      "underpinnings\tdiscouraged\tsort\n",
      "that\tunderlies\tapproach\n",
      "Some\tproduced\tsystems\n",
      "which\tmake\tdecisions\n",
      "systems\trely\twhich\n",
      "that\tcontains\terrors\n",
      "implementations\tinvolved\tcoding\n",
      "algorithms\ttake\tset\n",
      "Some\tproduced\tsystems\n",
      "which\tmake\tdecisions\n",
      "models\thave\tadvantage\n",
      "Some of the earliest-used algorithms , such as decision trees(they)\texpress\tcertainty\n",
      "Systems\thave\tadvantages\n",
      "Automatic\tmake\tuse\n",
      "that\tmake\tdecisions\n"
     ]
    }
   ],
   "source": [
    "for n,dependencies in enumerate(root.findall('.//dependencies[@type=\"collapsed-dependencies\"]')):\n",
    "    matrix = [[None for i in range(len(words_in_xml[n])+1)] for j in range(len(words_in_xml[n])+1)]\n",
    "    for dep in dependencies:\n",
    "        i = int(dep.find('governor').attrib['idx'])\n",
    "        j = int(dep.find('dependent').attrib['idx'])\n",
    "        matrix[i][j]=dep.attrib['type']\n",
    "    for l,line in enumerate(matrix):\n",
    "        if 'nsubj' in line and 'dobj' in line:\n",
    "            v=words_in_xml[n][l-1]\n",
    "            s=words_in_xml[n][line.index('nsubj')-1]\n",
    "            o=words_in_xml[n][line.index('dobj')-1]\n",
    "            print(\"{}\\t{}\\t{}\".format(s,v,o))\n",
    "    "
   ]
  },
  {
   "cell_type": "markdown",
   "metadata": {},
   "source": [
    "## 59. S式の解析\n",
    "\n",
    "https://ja.wikipedia.org/wiki/S式\n",
    "\n",
    ">S式（エスしき、英: S-expression）とは、Lispで導入され、主にLispで用いられる、2分木ないしリスト構造の形式的な記述方式。\n"
   ]
  },
  {
   "cell_type": "code",
   "execution_count": 16,
   "metadata": {
    "scrolled": true
   },
   "outputs": [
    {
     "name": "stdout",
     "output_type": "stream",
     "text": [
      "(ROOT (S (NP (NP (JJ Natural) (NN language) (NN processing)) (PRN (-LRB- -LRB-) (NP (NN NLP)) (-RRB- -RRB-))) (VP (VBZ is) (NP (NP (NP (DT a) (NN field)) (PP (IN of) (NP (NN computer) (NN science)))) (, ,) (NP (JJ artificial) (NN intelligence)) (, ,) (CC and) (NP (NP (NNS linguistics)) (VP (VBN concerned) (PP (IN with) (NP (NP (DT the) (NNS interactions)) (PP (IN between) (NP (NP (NNS computers)) (CC and) (NP (JJ human) (-LRB- -LRB-) (JJ natural) (-RRB- -RRB-) (NNS languages)))))))))) (. .))) \n"
     ]
    }
   ],
   "source": [
    "#試しに一つ見てみる\n",
    "parse = root.find('.//parse')\n",
    "print(parse.text)"
   ]
  },
  {
   "cell_type": "markdown",
   "metadata": {},
   "source": [
    "比較のため元の文\n",
    "\n",
    "Natural language processing (NLP) is a field of computer science, artificial intelligence, and linguistics concerned with the interactions between computers and human (natural) languages."
   ]
  },
  {
   "cell_type": "code",
   "execution_count": 17,
   "metadata": {
    "scrolled": true
   },
   "outputs": [],
   "source": [
    "class Node:\n",
    "    def __init__(self,type):\n",
    "        self.type = type\n",
    "        self.childs = []\n",
    "        self.parent = None\n",
    "        self.surface = \"\""
   ]
  },
  {
   "cell_type": "code",
   "execution_count": 18,
   "metadata": {
    "scrolled": true
   },
   "outputs": [],
   "source": [
    "matches = re.findall('\\(.*?(?=\\s)|\\S*?\\)',parse.text)\n",
    "\n",
    "root = Node('ROOT')\n",
    "parent = root\n",
    "beforenode = root\n",
    "for match in matches[1:]:\n",
    "    if match[0] == '(': #開き\n",
    "        newnode = Node(match[1:])\n",
    "        newnode.parent = parent\n",
    "        parent.childs.append(newnode)\n",
    "        parent = newnode\n",
    "    else: #閉じ\n",
    "        if len(match) > 0:\n",
    "            parent.surface = match[:-1]\n",
    "        parent = parent.parent"
   ]
  },
  {
   "cell_type": "code",
   "execution_count": 19,
   "metadata": {
    "scrolled": true
   },
   "outputs": [
    {
     "name": "stdout",
     "output_type": "stream",
     "text": [
      "Natural language processing -LRB- NLP -RRB- \n",
      "a field of computer science , artificial intelligence , and linguistics concerned with the interactions between computers and human -LRB- natural -RRB- languages \n"
     ]
    }
   ],
   "source": [
    "def print_NP(node,flag):\n",
    "    if node.surface != \"\" and flag:\n",
    "        print(node.surface,end=' ')\n",
    "    nflag = flag\n",
    "    if node.type == 'NP':\n",
    "        nflag = True\n",
    "    for c in node.childs:\n",
    "        print_NP(c,nflag)\n",
    "    if not(flag) and nflag:\n",
    "        print()\n",
    "\n",
    "print_NP(root,False)"
   ]
  }
 ],
 "metadata": {
  "kernelspec": {
   "display_name": "Python 3",
   "language": "python",
   "name": "python3"
  },
  "language_info": {
   "codemirror_mode": {
    "name": "ipython",
    "version": 3
   },
   "file_extension": ".py",
   "mimetype": "text/x-python",
   "name": "python",
   "nbconvert_exporter": "python",
   "pygments_lexer": "ipython3",
   "version": "3.6.3"
  }
 },
 "nbformat": 4,
 "nbformat_minor": 2
}
