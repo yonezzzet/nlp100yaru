{
 "cells": [
  {
   "cell_type": "code",
   "execution_count": 1,
   "metadata": {},
   "outputs": [
    {
     "name": "stdout",
     "output_type": "stream",
     "text": [
      "mecab of 0.996\n",
      "\n",
      "filename:\t/usr/local/lib/mecab/dic/ipadic/sys.dic\n",
      "version:\t102\n",
      "charset:\tutf8\n",
      "type:\t0\n",
      "size:\t392126\n",
      "left size:\t1316\n",
      "right size:\t1316\n",
      "\n"
     ]
    }
   ],
   "source": [
    "!mecab -v\n",
    "!mecab -D"
   ]
  },
  {
   "cell_type": "code",
   "execution_count": 2,
   "metadata": {},
   "outputs": [
    {
     "name": "stdout",
     "output_type": "stream",
     "text": [
      "  % Total    % Received % Xferd  Average Speed   Time    Time     Time  Current\n",
      "                                 Dload  Upload   Total   Spent    Left  Speed\n",
      "100  943k  100  943k    0     0   943k      0  0:00:01 --:--:--  0:00:01 3669k\n"
     ]
    }
   ],
   "source": [
    "!curl -O http://www.cl.ecei.tohoku.ac.jp/nlp100/data/neko.txt\n",
    "!cat neko.txt | mecab > neko.txt.mecab"
   ]
  },
  {
   "cell_type": "markdown",
   "metadata": {},
   "source": [
    "## 30. 形態素解析結果の読み込み\n",
    "\n",
    "http://taku910.github.io/mecab/\n",
    "\n",
    ">表層形\\t品詞,品詞細分類1,品詞細分類2,品詞細分類3,活用型,活用形,原形,読み,発音\n",
    "\n",
    "問題文では1文を形態素(マッピング型)のリストにする、とあるので、全文はリストのリストにすれば良い？"
   ]
  },
  {
   "cell_type": "code",
   "execution_count": 3,
   "metadata": {},
   "outputs": [
    {
     "data": {
      "text/plain": [
       "[[{'base': '一', 'pos': '名詞', 'pos1': '数', 'surface': '一'}],\n",
       " [],\n",
       " [{'base': '\\u3000', 'pos': '記号', 'pos1': '空白', 'surface': '\\u3000'},\n",
       "  {'base': '吾輩', 'pos': '名詞', 'pos1': '代名詞', 'surface': '吾輩'},\n",
       "  {'base': 'は', 'pos': '助詞', 'pos1': '係助詞', 'surface': 'は'},\n",
       "  {'base': '猫', 'pos': '名詞', 'pos1': '一般', 'surface': '猫'},\n",
       "  {'base': 'だ', 'pos': '助動詞', 'pos1': '*', 'surface': 'で'},\n",
       "  {'base': 'ある', 'pos': '助動詞', 'pos1': '*', 'surface': 'ある'},\n",
       "  {'base': '。', 'pos': '記号', 'pos1': '句点', 'surface': '。'}],\n",
       " [{'base': '名前', 'pos': '名詞', 'pos1': '一般', 'surface': '名前'},\n",
       "  {'base': 'は', 'pos': '助詞', 'pos1': '係助詞', 'surface': 'は'},\n",
       "  {'base': 'まだ', 'pos': '副詞', 'pos1': '助詞類接続', 'surface': 'まだ'},\n",
       "  {'base': '無い', 'pos': '形容詞', 'pos1': '自立', 'surface': '無い'},\n",
       "  {'base': '。', 'pos': '記号', 'pos1': '句点', 'surface': '。'}]]"
      ]
     },
     "execution_count": 3,
     "metadata": {},
     "output_type": "execute_result"
    }
   ],
   "source": [
    "all_text = []\n",
    "with open('neko.txt.mecab') as f:\n",
    "    sentence = []\n",
    "    for line in f:\n",
    "        if line == 'EOS\\n':\n",
    "            all_text.append(sentence[:])\n",
    "            sentence = []\n",
    "        else:\n",
    "            morpheme = {}\n",
    "            splited = [line.split('\\t')[0]] + line.split('\\t')[1].split(',')\n",
    "            morpheme['surface']=splited[0]\n",
    "            morpheme['base']=splited[7]\n",
    "            morpheme['pos']=splited[1]\n",
    "            morpheme['pos1']=splited[2]\n",
    "            sentence.append(morpheme)\n",
    "all_text[:4]"
   ]
  },
  {
   "cell_type": "markdown",
   "metadata": {},
   "source": [
    "## 31. 動詞"
   ]
  },
  {
   "cell_type": "code",
   "execution_count": 4,
   "metadata": {},
   "outputs": [
    {
     "data": {
      "text/plain": [
       "['生れ', 'つか', 'し', '泣い', 'し']"
      ]
     },
     "execution_count": 4,
     "metadata": {},
     "output_type": "execute_result"
    }
   ],
   "source": [
    "verbs_surface = []\n",
    "for sentence in all_text:\n",
    "    for morpheme in sentence:\n",
    "        if morpheme['pos']=='動詞':\n",
    "            verbs_surface.append(morpheme['surface'])\n",
    "verbs_surface[:5]"
   ]
  },
  {
   "cell_type": "markdown",
   "metadata": {},
   "source": [
    "## 32. 動詞の原形"
   ]
  },
  {
   "cell_type": "code",
   "execution_count": 5,
   "metadata": {},
   "outputs": [
    {
     "data": {
      "text/plain": [
       "['生れる', 'つく', 'する', '泣く', 'する']"
      ]
     },
     "execution_count": 5,
     "metadata": {},
     "output_type": "execute_result"
    }
   ],
   "source": [
    "verbs_base = []\n",
    "for sentence in all_text:\n",
    "    for morpheme in sentence:\n",
    "        if morpheme['pos']=='動詞':\n",
    "            verbs_base.append(morpheme['base'])\n",
    "verbs_base[:5]            "
   ]
  },
  {
   "cell_type": "markdown",
   "metadata": {},
   "source": [
    "## 33. サ変名詞"
   ]
  },
  {
   "cell_type": "code",
   "execution_count": 6,
   "metadata": {},
   "outputs": [
    {
     "data": {
      "text/plain": [
       "['見当', '記憶', '話', '装飾', '突起']"
      ]
     },
     "execution_count": 6,
     "metadata": {},
     "output_type": "execute_result"
    }
   ],
   "source": [
    "noun_sahen=[]\n",
    "for sentence in all_text:\n",
    "    for morpheme in sentence:\n",
    "        if morpheme['pos']=='名詞' and morpheme['pos1']=='サ変接続':\n",
    "            noun_sahen.append(morpheme['surface'])\n",
    "noun_sahen[:5]"
   ]
  },
  {
   "cell_type": "markdown",
   "metadata": {},
   "source": [
    "## 34. 「AのB」\n",
    "\n",
    "センスの良いやり方とは思えないけど・・"
   ]
  },
  {
   "cell_type": "code",
   "execution_count": 7,
   "metadata": {},
   "outputs": [
    {
     "data": {
      "text/plain": [
       "['彼の掌', '掌の上', '書生の顔', 'ものの始', 'はずの顔']"
      ]
     },
     "execution_count": 7,
     "metadata": {},
     "output_type": "execute_result"
    }
   ],
   "source": [
    "anob = []\n",
    "for sentence in all_text:\n",
    "    buf = \"\"\n",
    "    no = False\n",
    "    for morpheme in sentence:\n",
    "        if morpheme['pos']=='名詞':\n",
    "            if no:\n",
    "                anob.append(buf+'の'+morpheme['surface'])\n",
    "            buf = morpheme['surface']\n",
    "            no  = False\n",
    "        elif buf!=\"\" and morpheme['surface']=='の' and morpheme['pos']=='助詞':\n",
    "            no = True\n",
    "anob[:5]   "
   ]
  },
  {
   "cell_type": "markdown",
   "metadata": {},
   "source": [
    "## 35. 名詞の連接"
   ]
  },
  {
   "cell_type": "code",
   "execution_count": 8,
   "metadata": {},
   "outputs": [
    {
     "data": {
      "text/plain": [
       "'猫誉信女南無阿弥陀仏南無阿弥陀仏'"
      ]
     },
     "execution_count": 8,
     "metadata": {},
     "output_type": "execute_result"
    }
   ],
   "source": [
    "longest_nouns = []\n",
    "for sentence in all_text:\n",
    "    nouns = []\n",
    "    for morpheme in sentence:\n",
    "        if morpheme['pos']=='名詞' and morpheme['surface']==morpheme['base']: #英語を拾ってしまったので後者の条件を追加\n",
    "            nouns.append(morpheme['surface'])\n",
    "        else:\n",
    "            if len(''.join(nouns))>len(''.join(longest_nouns)):\n",
    "                longest_nouns=nouns[:]\n",
    "            nouns = []\n",
    "''.join(longest_nouns)"
   ]
  }
 ],
 "metadata": {
  "kernelspec": {
   "display_name": "Python 3",
   "language": "python",
   "name": "python3"
  },
  "language_info": {
   "codemirror_mode": {
    "name": "ipython",
    "version": 3
   },
   "file_extension": ".py",
   "mimetype": "text/x-python",
   "name": "python",
   "nbconvert_exporter": "python",
   "pygments_lexer": "ipython3",
   "version": "3.6.3"
  }
 },
 "nbformat": 4,
 "nbformat_minor": 2
}
